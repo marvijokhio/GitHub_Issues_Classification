{
  "nbformat": 4,
  "nbformat_minor": 0,
  "metadata": {
    "colab": {
      "name": "BigGloVe_Classify_GloVe_WordEmb_BiLSTM.ipynb",
      "provenance": [],
      "collapsed_sections": []
    },
    "kernelspec": {
      "name": "python3",
      "display_name": "Python 3"
    },
    "language_info": {
      "name": "python"
    }
  },
  "cells": [
    {
      "cell_type": "markdown",
      "metadata": {
        "id": "eZ093P4jcNCl"
      },
      "source": [
        "#300 dim\n",
        "#200 seq length\n",
        "#10 epoch\n",
        "# LSTM\n",
        "# Glove WE"
      ]
    },
    {
      "cell_type": "code",
      "metadata": {
        "colab": {
          "base_uri": "https://localhost:8080/"
        },
        "id": "wKAMl99gjH2p",
        "outputId": "a49de0b4-4bce-4adf-a967-94404ce98b49"
      },
      "source": [
        "import pandas as pd\n",
        "import numpy as np\n",
        "from sklearn.model_selection import train_test_split\n",
        "from sklearn.metrics import roc_auc_score\n",
        "from collections import Counter\n",
        "from keras.models import model_from_json\n",
        "import tensorflow as tf\n",
        "from tensorflow.keras.preprocessing.text import Tokenizer\n",
        "from tensorflow.keras.preprocessing.sequence import pad_sequences\n",
        "from tensorflow import keras"
      ],
      "execution_count": null,
      "outputs": [
        {
          "output_type": "stream",
          "name": "stderr",
          "text": [
            "/home/mjokhio12/venv/lib/python3.6/site-packages/pandas/compat/__init__.py:120: UserWarning: Could not import the lzma module. Your installed Python is incomplete. Attempting to use lzma compression will result in a RuntimeError.\n",
            "  warnings.warn(msg)\n"
          ]
        }
      ]
    },
    {
      "cell_type": "code",
      "metadata": {
        "id": "k4-6JhxLEjyr"
      },
      "source": [
        "import warnings\n",
        "warnings.filterwarnings('ignore')"
      ],
      "execution_count": null,
      "outputs": []
    },
    {
      "cell_type": "code",
      "metadata": {
        "id": "BOqY_oARNaMl",
        "colab": {
          "base_uri": "https://localhost:8080/",
          "height": 419
        },
        "outputId": "e4859166-19d0-4b8d-c220-322d46d7e285"
      },
      "source": [
        "data = pd.read_csv('msproj/clean_train4.csv')\n",
        "data"
      ],
      "execution_count": null,
      "outputs": [
        {
          "output_type": "execute_result",
          "data": {
            "text/plain": [
              "        Unnamed: 0                                               text  label\n",
              "0                0       zoom piano roll zoom piano roll would useful      1\n",
              "1                1  buggy behavior selection screenshot http cloud...      0\n",
              "2                2  auto update feature great job far saenz ramiro...      1\n",
              "3                3  filter noisy endpoint log think stop logging r...      1\n",
              "4                4  enable pid pid alarm action expected behavior ...      0\n",
              "...            ...                                                ...    ...\n",
              "449995      449995  shield invalid date make crash renderer date f...      0\n",
              "449996      449996                fix knight seriously one thing week      0\n",
              "449997      449997  portaudio playback binding crash often ubuntu ...      0\n",
              "449998      449998  add path option allowing user specify custom d...      1\n",
              "449999      449999  staff user can not log admin added admire staf...      0\n",
              "\n",
              "[450000 rows x 3 columns]"
            ],
            "text/html": [
              "<div>\n",
              "<style scoped>\n",
              "    .dataframe tbody tr th:only-of-type {\n",
              "        vertical-align: middle;\n",
              "    }\n",
              "\n",
              "    .dataframe tbody tr th {\n",
              "        vertical-align: top;\n",
              "    }\n",
              "\n",
              "    .dataframe thead th {\n",
              "        text-align: right;\n",
              "    }\n",
              "</style>\n",
              "<table border=\"1\" class=\"dataframe\">\n",
              "  <thead>\n",
              "    <tr style=\"text-align: right;\">\n",
              "      <th></th>\n",
              "      <th>Unnamed: 0</th>\n",
              "      <th>text</th>\n",
              "      <th>label</th>\n",
              "    </tr>\n",
              "  </thead>\n",
              "  <tbody>\n",
              "    <tr>\n",
              "      <th>0</th>\n",
              "      <td>0</td>\n",
              "      <td>zoom piano roll zoom piano roll would useful</td>\n",
              "      <td>1</td>\n",
              "    </tr>\n",
              "    <tr>\n",
              "      <th>1</th>\n",
              "      <td>1</td>\n",
              "      <td>buggy behavior selection screenshot http cloud...</td>\n",
              "      <td>0</td>\n",
              "    </tr>\n",
              "    <tr>\n",
              "      <th>2</th>\n",
              "      <td>2</td>\n",
              "      <td>auto update feature great job far saenz ramiro...</td>\n",
              "      <td>1</td>\n",
              "    </tr>\n",
              "    <tr>\n",
              "      <th>3</th>\n",
              "      <td>3</td>\n",
              "      <td>filter noisy endpoint log think stop logging r...</td>\n",
              "      <td>1</td>\n",
              "    </tr>\n",
              "    <tr>\n",
              "      <th>4</th>\n",
              "      <td>4</td>\n",
              "      <td>enable pid pid alarm action expected behavior ...</td>\n",
              "      <td>0</td>\n",
              "    </tr>\n",
              "    <tr>\n",
              "      <th>...</th>\n",
              "      <td>...</td>\n",
              "      <td>...</td>\n",
              "      <td>...</td>\n",
              "    </tr>\n",
              "    <tr>\n",
              "      <th>449995</th>\n",
              "      <td>449995</td>\n",
              "      <td>shield invalid date make crash renderer date f...</td>\n",
              "      <td>0</td>\n",
              "    </tr>\n",
              "    <tr>\n",
              "      <th>449996</th>\n",
              "      <td>449996</td>\n",
              "      <td>fix knight seriously one thing week</td>\n",
              "      <td>0</td>\n",
              "    </tr>\n",
              "    <tr>\n",
              "      <th>449997</th>\n",
              "      <td>449997</td>\n",
              "      <td>portaudio playback binding crash often ubuntu ...</td>\n",
              "      <td>0</td>\n",
              "    </tr>\n",
              "    <tr>\n",
              "      <th>449998</th>\n",
              "      <td>449998</td>\n",
              "      <td>add path option allowing user specify custom d...</td>\n",
              "      <td>1</td>\n",
              "    </tr>\n",
              "    <tr>\n",
              "      <th>449999</th>\n",
              "      <td>449999</td>\n",
              "      <td>staff user can not log admin added admire staf...</td>\n",
              "      <td>0</td>\n",
              "    </tr>\n",
              "  </tbody>\n",
              "</table>\n",
              "<p>450000 rows × 3 columns</p>\n",
              "</div>"
            ]
          },
          "metadata": {},
          "execution_count": 3
        }
      ]
    },
    {
      "cell_type": "code",
      "metadata": {
        "id": "vFF0c5VKNs0I"
      },
      "source": [
        "class_names = ['Bug', 'Feature', 'Question']"
      ],
      "execution_count": null,
      "outputs": []
    },
    {
      "cell_type": "code",
      "metadata": {
        "id": "Uw034ZwHlc3X",
        "colab": {
          "base_uri": "https://localhost:8080/"
        },
        "outputId": "029b374d-db84-42e8-f6e2-04bdfd419e05"
      },
      "source": [
        "%%time\n",
        "train, test = train_test_split(data, test_size=0.2, random_state=42, shuffle=True)\n",
        "\n",
        "train_samples = []   \n",
        "train_labels = []\n",
        "val_samples = []\n",
        "val_labels = []\n",
        "\n",
        "for index, row in train.iterrows():\n",
        "    train_samples.append(row['text'])\n",
        "    train_labels.append(row['label'])\n",
        "    # print(row['text'], row['target'])\n",
        "\n",
        "for index, row in test.iterrows():\n",
        "    val_samples.append(row['text'])\n",
        "    val_labels.append(row['label'])\n",
        "    # print(row['text'], row['target'])"
      ],
      "execution_count": null,
      "outputs": [
        {
          "output_type": "stream",
          "name": "stdout",
          "text": [
            "CPU times: user 33.6 s, sys: 12.8 ms, total: 33.6 s\n",
            "Wall time: 33.6 s\n"
          ]
        }
      ]
    },
    {
      "cell_type": "code",
      "metadata": {
        "colab": {
          "base_uri": "https://localhost:8080/"
        },
        "id": "TwGvG-QtnE7u",
        "outputId": "8c8c0f36-1efe-465f-918d-832c005b85e6"
      },
      "source": [
        "print(len(train_samples))\n",
        "print(len(val_labels))"
      ],
      "execution_count": null,
      "outputs": [
        {
          "output_type": "stream",
          "name": "stdout",
          "text": [
            "360000\n",
            "90000\n"
          ]
        }
      ]
    },
    {
      "cell_type": "code",
      "metadata": {
        "id": "dsIm8wGwuJxw"
      },
      "source": [
        "# How many unique words have this text\n",
        "def counter_word(text):\n",
        "    count = Counter()\n",
        "    for i in text.values:\n",
        "        for word in i.split():\n",
        "            count[word] += 1\n",
        "    return count"
      ],
      "execution_count": null,
      "outputs": []
    },
    {
      "cell_type": "code",
      "metadata": {
        "colab": {
          "base_uri": "https://localhost:8080/"
        },
        "id": "jfRx1FVz0IOj",
        "outputId": "3c27a661-a20e-447a-878c-0fd854dd440e"
      },
      "source": [
        "text_values = train[\"text\"]\n",
        "counter = counter_word(text_values)\n",
        "len(counter)"
      ],
      "execution_count": null,
      "outputs": [
        {
          "output_type": "execute_result",
          "data": {
            "text/plain": [
              "97196"
            ]
          },
          "metadata": {},
          "execution_count": 8
        }
      ]
    },
    {
      "cell_type": "code",
      "metadata": {
        "id": "ecHvKkdFG_xM"
      },
      "source": [
        "vocab_size = len(counter)\n",
        "embedding_dim = 300\n",
        "max_length = 200\n",
        "trunc_type='post'\n",
        "padding_type='post'\n",
        "oov_tok = \"<OOV>\""
      ],
      "execution_count": null,
      "outputs": []
    },
    {
      "cell_type": "code",
      "metadata": {
        "id": "Apglt-IXHQ9j",
        "colab": {
          "base_uri": "https://localhost:8080/"
        },
        "outputId": "a6664e67-3039-434b-8080-3af3abd1c69c"
      },
      "source": [
        "%%time\n",
        "tokenizer = Tokenizer(num_words=vocab_size, oov_token=oov_tok)\n",
        "tokenizer.fit_on_texts(train_samples)\n",
        "\n",
        "word_index = tokenizer.word_index\n",
        "\n",
        "training_sequences = tokenizer.texts_to_sequences(train_samples)\n",
        "training_padded = pad_sequences(training_sequences, maxlen=max_length, padding=padding_type, truncating=trunc_type)\n",
        "\n",
        "val_sequences = tokenizer.texts_to_sequences(val_samples)\n",
        "val_padded = pad_sequences(val_sequences, maxlen=max_length, padding=padding_type, truncating=trunc_type)"
      ],
      "execution_count": null,
      "outputs": [
        {
          "output_type": "stream",
          "name": "stdout",
          "text": [
            "CPU times: user 26.6 s, sys: 228 ms, total: 26.9 s\n",
            "Wall time: 26.8 s\n"
          ]
        }
      ]
    },
    {
      "cell_type": "code",
      "metadata": {
        "colab": {
          "base_uri": "https://localhost:8080/"
        },
        "id": "EW31hHv74fD6",
        "outputId": "0fedb1c1-1070-4cd7-aeab-c65365fbb73d"
      },
      "source": [
        "len(tokenizer.index_word)"
      ],
      "execution_count": null,
      "outputs": [
        {
          "output_type": "execute_result",
          "data": {
            "text/plain": [
              "97197"
            ]
          },
          "metadata": {},
          "execution_count": 11
        }
      ]
    },
    {
      "cell_type": "code",
      "metadata": {
        "colab": {
          "base_uri": "https://localhost:8080/"
        },
        "id": "rMKelxGLK7II",
        "outputId": "0f0af856-49f7-4f50-ba7f-066dc75cabff"
      },
      "source": [
        "print(len(training_sequences))\n",
        "print(training_padded.shape)"
      ],
      "execution_count": null,
      "outputs": [
        {
          "output_type": "stream",
          "name": "stdout",
          "text": [
            "360000\n",
            "(360000, 200)\n"
          ]
        }
      ]
    },
    {
      "cell_type": "code",
      "metadata": {
        "colab": {
          "base_uri": "https://localhost:8080/"
        },
        "id": "5MLOKOSbKzGu",
        "outputId": "fe5d3bde-7495-459a-c73a-3f1c4f48a809"
      },
      "source": [
        "print(len(val_sequences))\n",
        "print(val_padded.shape)"
      ],
      "execution_count": null,
      "outputs": [
        {
          "output_type": "stream",
          "name": "stdout",
          "text": [
            "90000\n",
            "(90000, 200)\n"
          ]
        }
      ]
    },
    {
      "cell_type": "code",
      "metadata": {
        "id": "yX6WzKBsIZah"
      },
      "source": [
        "import csv"
      ],
      "execution_count": null,
      "outputs": []
    },
    {
      "cell_type": "code",
      "metadata": {
        "id": "71u4abzoctES"
      },
      "source": [
        "# open file for writing, \"w\" is writing\n",
        "w = csv.writer(open(\"msproj/Clean_data4_WI.csv\", \"w\"))\n",
        "\n",
        "# loop over dictionary keys and values\n",
        "for key, val in dict(list(word_index.items())).items():\n",
        "\n",
        "    # write every key and value to file\n",
        "    w.writerow([key, val])"
      ],
      "execution_count": null,
      "outputs": []
    },
    {
      "cell_type": "code",
      "metadata": {
        "colab": {
          "base_uri": "https://localhost:8080/"
        },
        "id": "FQnfAz8pIx7w",
        "outputId": "58fd1878-74bd-40bc-b5a5-17f07251fa1a"
      },
      "source": [
        "print(training_sequences[10])"
      ],
      "execution_count": null,
      "outputs": [
        {
          "output_type": "stream",
          "name": "stdout",
          "text": [
            "[11, 1656, 2124, 365, 274, 164, 5195, 1656, 66]\n"
          ]
        }
      ]
    },
    {
      "cell_type": "code",
      "metadata": {
        "colab": {
          "base_uri": "https://localhost:8080/"
        },
        "id": "QD0deor1JHve",
        "outputId": "479286c3-629c-408f-ec0b-8ba5ac8035ff"
      },
      "source": [
        "for number in range(5):\n",
        "    print(len(training_sequences[number]))\n",
        "    print(len(training_padded[number]))"
      ],
      "execution_count": null,
      "outputs": [
        {
          "output_type": "stream",
          "name": "stdout",
          "text": [
            "6\n",
            "200\n",
            "13\n",
            "200\n",
            "104\n",
            "200\n",
            "318\n",
            "200\n",
            "38\n",
            "200\n"
          ]
        }
      ]
    },
    {
      "cell_type": "code",
      "metadata": {
        "colab": {
          "base_uri": "https://localhost:8080/"
        },
        "id": "cGh2JDUtJJkL",
        "outputId": "c21c3ca4-27b9-4522-c1ac-b5fecd6359f2"
      },
      "source": [
        "print(training_sequences[10])"
      ],
      "execution_count": null,
      "outputs": [
        {
          "output_type": "stream",
          "name": "stdout",
          "text": [
            "[11, 1656, 2124, 365, 274, 164, 5195, 1656, 66]\n"
          ]
        }
      ]
    },
    {
      "cell_type": "code",
      "metadata": {
        "colab": {
          "base_uri": "https://localhost:8080/"
        },
        "id": "n1ES1HP8JRmU",
        "outputId": "a46d9428-c63c-4a00-ae98-e8bbdfec1bee"
      },
      "source": [
        "print(training_padded[10])"
      ],
      "execution_count": null,
      "outputs": [
        {
          "output_type": "stream",
          "name": "stdout",
          "text": [
            "[  11 1656 2124  365  274  164 5195 1656   66    0    0    0    0    0\n",
            "    0    0    0    0    0    0    0    0    0    0    0    0    0    0\n",
            "    0    0    0    0    0    0    0    0    0    0    0    0    0    0\n",
            "    0    0    0    0    0    0    0    0    0    0    0    0    0    0\n",
            "    0    0    0    0    0    0    0    0    0    0    0    0    0    0\n",
            "    0    0    0    0    0    0    0    0    0    0    0    0    0    0\n",
            "    0    0    0    0    0    0    0    0    0    0    0    0    0    0\n",
            "    0    0    0    0    0    0    0    0    0    0    0    0    0    0\n",
            "    0    0    0    0    0    0    0    0    0    0    0    0    0    0\n",
            "    0    0    0    0    0    0    0    0    0    0    0    0    0    0\n",
            "    0    0    0    0    0    0    0    0    0    0    0    0    0    0\n",
            "    0    0    0    0    0    0    0    0    0    0    0    0    0    0\n",
            "    0    0    0    0    0    0    0    0    0    0    0    0    0    0\n",
            "    0    0    0    0    0    0    0    0    0    0    0    0    0    0\n",
            "    0    0    0    0]\n"
          ]
        }
      ]
    },
    {
      "cell_type": "code",
      "metadata": {
        "colab": {
          "base_uri": "https://localhost:8080/"
        },
        "id": "JdB_w2yPJqHi",
        "outputId": "5f520909-dbf1-41e1-ac15-d02205431aff"
      },
      "source": [
        "print(training_sequences[0])"
      ],
      "execution_count": null,
      "outputs": [
        {
          "output_type": "stream",
          "name": "stdout",
          "text": [
            "[41, 1056, 41, 1056, 1463, 216]\n"
          ]
        }
      ]
    },
    {
      "cell_type": "code",
      "metadata": {
        "colab": {
          "base_uri": "https://localhost:8080/"
        },
        "id": "SMJE21EXJqD9",
        "outputId": "c2fb7647-8249-4f77-e626-6f85b3671ceb"
      },
      "source": [
        "print(training_padded[0])"
      ],
      "execution_count": null,
      "outputs": [
        {
          "output_type": "stream",
          "name": "stdout",
          "text": [
            "[  41 1056   41 1056 1463  216    0    0    0    0    0    0    0    0\n",
            "    0    0    0    0    0    0    0    0    0    0    0    0    0    0\n",
            "    0    0    0    0    0    0    0    0    0    0    0    0    0    0\n",
            "    0    0    0    0    0    0    0    0    0    0    0    0    0    0\n",
            "    0    0    0    0    0    0    0    0    0    0    0    0    0    0\n",
            "    0    0    0    0    0    0    0    0    0    0    0    0    0    0\n",
            "    0    0    0    0    0    0    0    0    0    0    0    0    0    0\n",
            "    0    0    0    0    0    0    0    0    0    0    0    0    0    0\n",
            "    0    0    0    0    0    0    0    0    0    0    0    0    0    0\n",
            "    0    0    0    0    0    0    0    0    0    0    0    0    0    0\n",
            "    0    0    0    0    0    0    0    0    0    0    0    0    0    0\n",
            "    0    0    0    0    0    0    0    0    0    0    0    0    0    0\n",
            "    0    0    0    0    0    0    0    0    0    0    0    0    0    0\n",
            "    0    0    0    0    0    0    0    0    0    0    0    0    0    0\n",
            "    0    0    0    0]\n"
          ]
        }
      ]
    },
    {
      "cell_type": "code",
      "metadata": {
        "id": "ulW7K1lKHaaj"
      },
      "source": [
        "training_padded = np.array(training_padded)\n",
        "train_labels = np.array(train_labels)\n",
        "val_padded = np.array(val_padded)\n",
        "val_labels = np.array(val_labels)"
      ],
      "execution_count": null,
      "outputs": []
    },
    {
      "cell_type": "code",
      "metadata": {
        "colab": {
          "base_uri": "https://localhost:8080/"
        },
        "id": "OC486m-pIqtJ",
        "outputId": "a73838eb-bd8d-4d00-b41e-06506ba0a0ea"
      },
      "source": [
        "print(train_labels[0])\n",
        "print(train_labels[1])\n",
        "print(train_labels[2])\n",
        "print(train_labels.shape)\n",
        "\n",
        "print(val_labels[0])\n",
        "print(val_labels[1])\n",
        "print(val_labels[2])\n",
        "print(val_labels.shape)"
      ],
      "execution_count": null,
      "outputs": [
        {
          "output_type": "stream",
          "name": "stdout",
          "text": [
            "1\n",
            "1\n",
            "0\n",
            "(360000,)\n",
            "0\n",
            "0\n",
            "1\n",
            "(90000,)\n"
          ]
        }
      ]
    },
    {
      "cell_type": "code",
      "metadata": {
        "colab": {
          "base_uri": "https://localhost:8080/"
        },
        "id": "hDZirdM_MNGm",
        "outputId": "97195365-7325-47c8-9cac-7f3a85bb5a9f"
      },
      "source": [
        "reverse_word_index = dict([(value, key) for (key, value) in word_index.items()])\n",
        "\n",
        "def decode_text(text):\n",
        "    return ' '.join([reverse_word_index.get(i, '?') for i in text])\n",
        "print(decode_text(training_padded[10]))\n",
        "print('---')\n",
        "print(train_samples[10])"
      ],
      "execution_count": null,
      "outputs": [
        {
          "output_type": "stream",
          "name": "stdout",
          "text": [
            "add applicable tax section provide date satisfied applicable option ? ? ? ? ? ? ? ? ? ? ? ? ? ? ? ? ? ? ? ? ? ? ? ? ? ? ? ? ? ? ? ? ? ? ? ? ? ? ? ? ? ? ? ? ? ? ? ? ? ? ? ? ? ? ? ? ? ? ? ? ? ? ? ? ? ? ? ? ? ? ? ? ? ? ? ? ? ? ? ? ? ? ? ? ? ? ? ? ? ? ? ? ? ? ? ? ? ? ? ? ? ? ? ? ? ? ? ? ? ? ? ? ? ? ? ? ? ? ? ? ? ? ? ? ? ? ? ? ? ? ? ? ? ? ? ? ? ? ? ? ? ? ? ? ? ? ? ? ? ? ? ? ? ? ? ? ? ? ? ? ? ? ? ? ? ? ? ? ? ? ? ? ? ? ? ? ? ? ? ? ? ? ? ? ? ? ? ? ? ? ?\n",
            "---\n",
            "add applicable tax section provide date satisfied applicable option\n"
          ]
        }
      ]
    },
    {
      "cell_type": "code",
      "metadata": {
        "id": "TuSNK0IrrCjQ"
      },
      "source": [
        "def load_glove_format(filename: str, embedding_dim: int):\n",
        "    word_vectors = {}\n",
        "    with open(filename, 'r') as reader:\n",
        "        for i, line in enumerate(reader):\n",
        "            line = line.strip().split()\n",
        "            word = line[0]\n",
        "            word_vector = np.array([v for v in line[1:]])\n",
        "\n",
        "            if word_vector.shape[0] == embedding_dim:\n",
        "              word_vectors[word] = word_vector\n",
        "\n",
        "    return word_vectors"
      ],
      "execution_count": null,
      "outputs": []
    },
    {
      "cell_type": "code",
      "metadata": {
        "id": "naDzwt_erYPv"
      },
      "source": [
        "dictemb=load_glove_format(\"msproj/embeddings/glove.840B.300d.txt\", 300)"
      ],
      "execution_count": null,
      "outputs": []
    },
    {
      "cell_type": "code",
      "metadata": {
        "id": "f5ZbTtiIiQG4"
      },
      "source": [
        "dict_items = dictemb.items()\n",
        "first_two = list(dict_items)[:2]\n",
        "# print(first_two)"
      ],
      "execution_count": null,
      "outputs": []
    },
    {
      "cell_type": "markdown",
      "metadata": {
        "id": "6pVIgtMYzqRX"
      },
      "source": [
        "Now, let's prepare a corresponding embedding matrix that we can use in a Keras\n",
        "`Embedding` layer. It's a simple NumPy matrix where entry at index `i` is the pre-trained\n",
        "vector for the word of index `i` in our `vectorizer`'s vocabulary."
      ]
    },
    {
      "cell_type": "code",
      "metadata": {
        "id": "gUko2IKW7tOY",
        "colab": {
          "base_uri": "https://localhost:8080/"
        },
        "outputId": "247e2d10-1b4e-4de9-a61d-949b47a86321"
      },
      "source": [
        "num_tokens = vocab_size + 2\n",
        "embedding_dim = 300\n",
        "hits = 0\n",
        "misses = 0\n",
        "\n",
        "# Prepare embedding matrix\n",
        "embedding_matrix = np.zeros((num_tokens, embedding_dim))\n",
        "# print(embedding_matrix.shape)\n",
        "for word, i in word_index.items():\n",
        "    embedding_vector = dictemb.get(word)\n",
        "    if embedding_vector is not None:\n",
        "        # Words not found in embedding index will be all-zeros.\n",
        "        # This includes the representation for \"padding\" and \"OOV\"\n",
        "        # print(embedding_vector.shape)\n",
        "        embedding_matrix[i] = embedding_vector\n",
        "        hits += 1\n",
        "    else:\n",
        "        misses += 1\n",
        "print(\"Converted %d words (%d misses)\" % (hits, misses))\n",
        "p = (hits*100)/vocab_size\n",
        "print(\"Percentage of vocabulary matched: \", p)"
      ],
      "execution_count": null,
      "outputs": [
        {
          "output_type": "stream",
          "name": "stdout",
          "text": [
            "Converted 78850 words (18347 misses)\n",
            "Percentage of vocabulary matched:  81.12473764352443\n"
          ]
        }
      ]
    },
    {
      "cell_type": "markdown",
      "metadata": {
        "id": "41qm2mqqzqRY"
      },
      "source": [
        "Next, we load the pre-trained word embeddings matrix into an `Embedding` layer.\n",
        "\n",
        "Note that we set `trainable=False` so as to keep the embeddings fixed (we don't want to\n",
        "update them during training)."
      ]
    },
    {
      "cell_type": "code",
      "metadata": {
        "id": "-7g18DL9zqRZ",
        "colab": {
          "base_uri": "https://localhost:8080/"
        },
        "outputId": "5b94d3ec-124b-4ef8-9bdb-18b507ac0e49"
      },
      "source": [
        "%%time\n",
        "from tensorflow.keras.layers import Embedding\n",
        "\n",
        "embedding_layer = Embedding( num_tokens, embedding_dim, embeddings_initializer=keras.initializers.Constant(embedding_matrix), trainable=False )"
      ],
      "execution_count": null,
      "outputs": [
        {
          "output_type": "stream",
          "name": "stdout",
          "text": [
            "CPU times: user 17.4 ms, sys: 112 µs, total: 17.5 ms\n",
            "Wall time: 136 ms\n"
          ]
        }
      ]
    },
    {
      "cell_type": "markdown",
      "metadata": {
        "id": "3m8hj_IuzqRZ"
      },
      "source": [
        "## Build the model\n",
        "\n"
      ]
    },
    {
      "cell_type": "code",
      "metadata": {
        "colab": {
          "base_uri": "https://localhost:8080/"
        },
        "id": "OszemFWUVKKF",
        "outputId": "f877caa4-4207-4fbc-8ea6-7527b14d99db"
      },
      "source": [
        "from tensorflow.keras import layers\n",
        "# Input for variable-length sequences of integers\n",
        "int_sequences_input = keras.Input(shape=(None,), dtype=\"int64\")\n",
        "# Embed each integer in a 200-dimensional vector\n",
        "embedded_sequences = embedding_layer(int_sequences_input)\n",
        "# Add 2 bidirectional LSTMs\n",
        "x = layers.Bidirectional(layers.LSTM(64, return_sequences=True))(embedded_sequences)\n",
        "x = layers.Bidirectional(layers.LSTM(64))(x)\n",
        "# Add a classifier\n",
        "preds = layers.Dense(len(class_names), activation=\"softmax\")(x)\n",
        "model = keras.Model(int_sequences_input, preds)\n",
        "model.summary()"
      ],
      "execution_count": null,
      "outputs": [
        {
          "output_type": "stream",
          "name": "stdout",
          "text": [
            "Model: \"model\"\n",
            "_________________________________________________________________\n",
            "Layer (type)                 Output Shape              Param #   \n",
            "=================================================================\n",
            "input_1 (InputLayer)         [(None, None)]            0         \n",
            "_________________________________________________________________\n",
            "embedding (Embedding)        (None, None, 300)         29159400  \n",
            "_________________________________________________________________\n",
            "bidirectional (Bidirectional (None, None, 128)         186880    \n",
            "_________________________________________________________________\n",
            "bidirectional_1 (Bidirection (None, 128)               98816     \n",
            "_________________________________________________________________\n",
            "dense (Dense)                (None, 3)                 387       \n",
            "=================================================================\n",
            "Total params: 29,445,483\n",
            "Trainable params: 286,083\n",
            "Non-trainable params: 29,159,400\n",
            "_________________________________________________________________\n"
          ]
        }
      ]
    },
    {
      "cell_type": "markdown",
      "metadata": {
        "id": "l9_yaEXCzqRZ"
      },
      "source": [
        "## Train the model\n",
        "\n",
        "First, convert our list-of-strings data to NumPy arrays of integer indices. The arrays\n",
        "are right-padded."
      ]
    },
    {
      "cell_type": "markdown",
      "metadata": {
        "id": "t2k_Q1UmzqRa"
      },
      "source": [
        "We use categorical crossentropy as our loss since we're doing softmax classification.\n",
        "Moreover, we use `sparse_categorical_crossentropy` since our labels are integers."
      ]
    },
    {
      "cell_type": "code",
      "metadata": {
        "id": "RpUdt4jdzqRa",
        "colab": {
          "base_uri": "https://localhost:8080/"
        },
        "outputId": "995440c9-7656-468a-f65f-16ace0d31427"
      },
      "source": [
        "%%time\n",
        "model.compile(\n",
        "    loss=\"sparse_categorical_crossentropy\", optimizer=\"rmsprop\", metrics=[\"acc\"]\n",
        ")\n",
        "history =  model.fit(training_padded, train_labels, batch_size=128, epochs=10, validation_data=(val_padded, val_labels))"
      ],
      "execution_count": null,
      "outputs": [
        {
          "output_type": "stream",
          "name": "stdout",
          "text": [
            "Epoch 1/10\n",
            "2813/2813 [==============================] - 1431s 504ms/step - loss: 0.6089 - acc: 0.7590 - val_loss: 0.5771 - val_acc: 0.7783\n",
            "Epoch 2/10\n",
            "2813/2813 [==============================] - 1409s 501ms/step - loss: 0.5461 - acc: 0.7883 - val_loss: 0.5500 - val_acc: 0.7868\n",
            "Epoch 3/10\n",
            "2813/2813 [==============================] - 1412s 502ms/step - loss: 0.5197 - acc: 0.7993 - val_loss: 0.5457 - val_acc: 0.7887\n",
            "Epoch 4/10\n",
            "2813/2813 [==============================] - 1407s 500ms/step - loss: 0.4975 - acc: 0.8086 - val_loss: 0.5424 - val_acc: 0.7905\n",
            "Epoch 5/10\n",
            "2813/2813 [==============================] - 1406s 500ms/step - loss: 0.4764 - acc: 0.8176 - val_loss: 0.5507 - val_acc: 0.7890\n",
            "Epoch 6/10\n",
            "2813/2813 [==============================] - 1403s 499ms/step - loss: 0.4553 - acc: 0.8267 - val_loss: 0.5614 - val_acc: 0.7882\n",
            "Epoch 7/10\n",
            "2813/2813 [==============================] - 1405s 500ms/step - loss: 0.4334 - acc: 0.8356 - val_loss: 0.5798 - val_acc: 0.7837\n",
            "Epoch 8/10\n",
            "2813/2813 [==============================] - 1405s 500ms/step - loss: 0.4117 - acc: 0.8442 - val_loss: 0.5871 - val_acc: 0.7795\n",
            "Epoch 9/10\n",
            "2813/2813 [==============================] - 1409s 501ms/step - loss: 0.3901 - acc: 0.8536 - val_loss: 0.6177 - val_acc: 0.7806\n",
            "Epoch 10/10\n",
            "2813/2813 [==============================] - 1371s 487ms/step - loss: 0.3683 - acc: 0.8623 - val_loss: 0.6518 - val_acc: 0.7685\n",
            "CPU times: user 22h 30min 35s, sys: 4h 23min 20s, total: 1d 2h 53min 56s\n",
            "Wall time: 3h 54min 18s\n"
          ]
        }
      ]
    },
    {
      "cell_type": "code",
      "metadata": {
        "id": "6p6O1Qp_uc2n",
        "colab": {
          "base_uri": "https://localhost:8080/"
        },
        "outputId": "ed1bca87-3ead-40a4-dbb9-7adb1920acea"
      },
      "source": [
        "# evaluate model\n",
        "yhat = model.predict(val_padded)\n",
        "score = roc_auc_score(val_labels, yhat,multi_class='ovr')\n",
        "print('ROC AUC: %.3f' % score)"
      ],
      "execution_count": null,
      "outputs": [
        {
          "output_type": "stream",
          "name": "stdout",
          "text": [
            "ROC AUC: 0.867\n"
          ]
        }
      ]
    },
    {
      "cell_type": "code",
      "metadata": {
        "id": "ozOlF2FEuczy",
        "colab": {
          "base_uri": "https://localhost:8080/",
          "height": 541
        },
        "outputId": "ccfc9879-a5f3-404a-945c-5d5c0b6d5b9a"
      },
      "source": [
        "import matplotlib.pyplot as plt\n",
        "\n",
        "def plot_graphs(history, string):\n",
        "  plt.plot(history.history[string])\n",
        "  plt.plot(history.history['val_'+string])\n",
        "  plt.xlabel(\"Epochs\")\n",
        "  plt.ylabel(string)\n",
        "  plt.legend([string, 'val_'+string])\n",
        "  plt.show()\n",
        "  \n",
        "plot_graphs(history, \"acc\")\n",
        "plot_graphs(history, \"loss\")"
      ],
      "execution_count": null,
      "outputs": [
        {
          "output_type": "display_data",
          "data": {
            "text/plain": [
              "<Figure size 432x288 with 1 Axes>"
            ],
            "image/png": "[encoded data removed]"
          },
          "metadata": {
            "needs_background": "light"
          }
        },
        {
          "output_type": "display_data",
          "data": {
            "text/plain": [
              "<Figure size 432x288 with 1 Axes>"
            ],
            "image/png": "[encoded data removed]"
          },
          "metadata": {
            "needs_background": "light"
          }
        }
      ]
    },
    {
      "cell_type": "code",
      "metadata": {
        "id": "fxe9D8jeucw5",
        "colab": {
          "base_uri": "https://localhost:8080/"
        },
        "outputId": "8728c7c4-df0f-4c60-9097-94886e949edf"
      },
      "source": [
        "reverse_word_index = dict([(value, key) for (key, value) in word_index.items()])\n",
        "\n",
        "def decode_sentence(text):\n",
        "    return ' '.join([reverse_word_index.get(i, '?') for i in text])\n",
        "\n",
        "print(decode_sentence(training_padded[2]))\n",
        "print(train_samples[2])\n",
        "print(train_labels[2])"
      ],
      "execution_count": null,
      "outputs": [
        {
          "output_type": "stream",
          "name": "stdout",
          "text": [
            "inbox sum unread problem count equal unread count language happened time able figure exactly circumstance occurs case seems happening ruby track example unread item hamming unread item anagram one would think mean unread item total ruby counter say click hamming item one one hamming ruby counter decrease also click two anagram item decrease counter well left one anagram item unread zero ruby item unread expect ruby counter instead right screenshot current inbox stand http img may unread count ruby track synced going read submission leave last one submission unread help diagnose issue way see difference square submission see difference square since submitted solution problem ? ? ? ? ? ? ? ? ? ? ? ? ? ? ? ? ? ? ? ? ? ? ? ? ? ? ? ? ? ? ? ? ? ? ? ? ? ? ? ? ? ? ? ? ? ? ? ? ? ? ? ? ? ? ? ? ? ? ? ? ? ? ? ? ? ? ? ? ? ? ? ? ? ? ? ? ? ? ? ? ? ? ? ? ? ? ? ? ? ? ? ? ? ? ? ?\n",
            "inbox sum unread problem count equal unread count language happened time able figure exactly circumstance occurs case seems happening ruby track example unread item hamming unread item anagram one would think mean unread item total ruby counter say click hamming item one one hamming ruby counter decrease also click two anagram item decrease counter well left one anagram item unread zero ruby item unread expect ruby counter instead right screenshot current inbox stand http img may unread count ruby track synced going read submission leave last one submission unread help diagnose issue way see difference square submission see difference square since submitted solution problem\n",
            "0\n"
          ]
        }
      ]
    },
    {
      "cell_type": "code",
      "metadata": {
        "id": "2Fa3Az_w4ZVN"
      },
      "source": [
        "def Convert(stng):\n",
        "  li = []\n",
        "  li.append(stng)\n",
        "  return li"
      ],
      "execution_count": null,
      "outputs": []
    },
    {
      "cell_type": "code",
      "metadata": {
        "id": "bbR7K5RpmWHj"
      },
      "source": [
        "txt = \"unable mine rock sark starting today hit enter.\"\n",
        "\n",
        "def pred_it(txt):\n",
        "  seq = tokenizer.texts_to_sequences(txt)\n",
        "  padded = pad_sequences(seq, maxlen=max_length,padding=padding_type, truncating=trunc_type)\n",
        "  pred = model.predict(padded)\n",
        "  labels = [0, 1, 2]\n",
        "  return labels[np.argmax(pred)]  "
      ],
      "execution_count": null,
      "outputs": []
    },
    {
      "cell_type": "code",
      "metadata": {
        "colab": {
          "base_uri": "https://localhost:8080/"
        },
        "id": "f-aGtwBrzRvg",
        "outputId": "36ed5d75-e641-4b32-f164-d760b2e8a82a"
      },
      "source": [
        "print(Convert(txt))\n",
        "pred_it(Convert(txt))"
      ],
      "execution_count": null,
      "outputs": [
        {
          "output_type": "stream",
          "name": "stdout",
          "text": [
            "['unable mine rock sark starting today hit enter.']\n"
          ]
        },
        {
          "output_type": "execute_result",
          "data": {
            "text/plain": [
              "0"
            ]
          },
          "metadata": {},
          "execution_count": 40
        }
      ]
    },
    {
      "cell_type": "markdown",
      "metadata": {
        "id": "H2eokmnJzqRa"
      },
      "source": [
        "## Export an end-to-end model\n",
        "\n",
        "Now, we may want to export a `Model` object that takes as input a string of arbitrary\n",
        "length, rather than a sequence of indices. It would make the model much more portable,\n",
        "since you wouldn't have to worry about the input preprocessing pipeline.\n",
        "\n",
        "Our `vectorizer` is actually a Keras layer, so it's simple:"
      ]
    },
    {
      "cell_type": "code",
      "metadata": {
        "id": "tb3IhygDuzHR",
        "colab": {
          "base_uri": "https://localhost:8080/"
        },
        "outputId": "07423183-10eb-4ea7-dbeb-82936be8e455"
      },
      "source": [
        "from keras.models import model_from_json\n",
        "# serialize model to JSON\n",
        "model_json = model.to_json()\n",
        "with open(\"msproj/Classify_GloVe_WordEmb_BiLSTMv2.json\", \"w\") as json_file:\n",
        "    json_file.write(model_json)\n",
        "# serialize weights to HDF5\n",
        "model.save_weights(\"msproj/Classify_GloVe_WordEmb_BiLSTMv2.h5\")\n",
        "print(\"Saved model to disk\")"
      ],
      "execution_count": null,
      "outputs": [
        {
          "output_type": "stream",
          "name": "stdout",
          "text": [
            "Saved model to disk\n"
          ]
        }
      ]
    },
    {
      "cell_type": "code",
      "metadata": {
        "colab": {
          "base_uri": "https://localhost:8080/"
        },
        "id": "xJvKD4Op7jsN",
        "outputId": "3c117fdf-6c53-4b73-dba0-c8c6e4d50106"
      },
      "source": [
        "tf.keras.utils.plot_model(model)"
      ],
      "execution_count": null,
      "outputs": [
        {
          "output_type": "stream",
          "name": "stdout",
          "text": [
            "('You must install pydot (`pip install pydot`) and install graphviz (see instructions at https://graphviz.gitlab.io/download/) ', 'for plot_model/model_to_dot to work.')\n"
          ]
        }
      ]
    },
    {
      "cell_type": "code",
      "metadata": {
        "colab": {
          "base_uri": "https://localhost:8080/",
          "height": 419
        },
        "id": "ne4eIaqD19m3",
        "outputId": "9c11b6f8-2a6a-45f5-c26c-9f69e9b8c018"
      },
      "source": [
        "dataset_test = pd.read_csv('msproj/clean_test4.csv')\n",
        "dataset_test['pred'] = 3\n",
        "dataset_test"
      ],
      "execution_count": null,
      "outputs": [
        {
          "output_type": "execute_result",
          "data": {
            "text/plain": [
              "       Unnamed: 0                                               text  label  \\\n",
              "0               0  config question path specific environment vari...      0   \n",
              "1               1           crash indien vol simulator crash hij vol      0   \n",
              "2               2  unable mine rock sark starting today hit enter...      0   \n",
              "3               3  whitelists processed create following rule ord...      0   \n",
              "4               4  add ctx menu ida free ida free associated dll ...      0   \n",
              "...           ...                                                ...    ...   \n",
              "29995       29995  closing project running simulation stop simula...      0   \n",
              "29996       29996  missing table description iseries driver table...      0   \n",
              "29997       29997  case notification shown new message always cha...      0   \n",
              "29998       29998  error syncing see following error log error ja...      0   \n",
              "29999       29999  portable open system pharmacology version hell...      0   \n",
              "\n",
              "       pred  \n",
              "0         3  \n",
              "1         3  \n",
              "2         3  \n",
              "3         3  \n",
              "4         3  \n",
              "...     ...  \n",
              "29995     3  \n",
              "29996     3  \n",
              "29997     3  \n",
              "29998     3  \n",
              "29999     3  \n",
              "\n",
              "[30000 rows x 4 columns]"
            ],
            "text/html": [
              "<div>\n",
              "<style scoped>\n",
              "    .dataframe tbody tr th:only-of-type {\n",
              "        vertical-align: middle;\n",
              "    }\n",
              "\n",
              "    .dataframe tbody tr th {\n",
              "        vertical-align: top;\n",
              "    }\n",
              "\n",
              "    .dataframe thead th {\n",
              "        text-align: right;\n",
              "    }\n",
              "</style>\n",
              "<table border=\"1\" class=\"dataframe\">\n",
              "  <thead>\n",
              "    <tr style=\"text-align: right;\">\n",
              "      <th></th>\n",
              "      <th>Unnamed: 0</th>\n",
              "      <th>text</th>\n",
              "      <th>label</th>\n",
              "      <th>pred</th>\n",
              "    </tr>\n",
              "  </thead>\n",
              "  <tbody>\n",
              "    <tr>\n",
              "      <th>0</th>\n",
              "      <td>0</td>\n",
              "      <td>config question path specific environment vari...</td>\n",
              "      <td>0</td>\n",
              "      <td>3</td>\n",
              "    </tr>\n",
              "    <tr>\n",
              "      <th>1</th>\n",
              "      <td>1</td>\n",
              "      <td>crash indien vol simulator crash hij vol</td>\n",
              "      <td>0</td>\n",
              "      <td>3</td>\n",
              "    </tr>\n",
              "    <tr>\n",
              "      <th>2</th>\n",
              "      <td>2</td>\n",
              "      <td>unable mine rock sark starting today hit enter...</td>\n",
              "      <td>0</td>\n",
              "      <td>3</td>\n",
              "    </tr>\n",
              "    <tr>\n",
              "      <th>3</th>\n",
              "      <td>3</td>\n",
              "      <td>whitelists processed create following rule ord...</td>\n",
              "      <td>0</td>\n",
              "      <td>3</td>\n",
              "    </tr>\n",
              "    <tr>\n",
              "      <th>4</th>\n",
              "      <td>4</td>\n",
              "      <td>add ctx menu ida free ida free associated dll ...</td>\n",
              "      <td>0</td>\n",
              "      <td>3</td>\n",
              "    </tr>\n",
              "    <tr>\n",
              "      <th>...</th>\n",
              "      <td>...</td>\n",
              "      <td>...</td>\n",
              "      <td>...</td>\n",
              "      <td>...</td>\n",
              "    </tr>\n",
              "    <tr>\n",
              "      <th>29995</th>\n",
              "      <td>29995</td>\n",
              "      <td>closing project running simulation stop simula...</td>\n",
              "      <td>0</td>\n",
              "      <td>3</td>\n",
              "    </tr>\n",
              "    <tr>\n",
              "      <th>29996</th>\n",
              "      <td>29996</td>\n",
              "      <td>missing table description iseries driver table...</td>\n",
              "      <td>0</td>\n",
              "      <td>3</td>\n",
              "    </tr>\n",
              "    <tr>\n",
              "      <th>29997</th>\n",
              "      <td>29997</td>\n",
              "      <td>case notification shown new message always cha...</td>\n",
              "      <td>0</td>\n",
              "      <td>3</td>\n",
              "    </tr>\n",
              "    <tr>\n",
              "      <th>29998</th>\n",
              "      <td>29998</td>\n",
              "      <td>error syncing see following error log error ja...</td>\n",
              "      <td>0</td>\n",
              "      <td>3</td>\n",
              "    </tr>\n",
              "    <tr>\n",
              "      <th>29999</th>\n",
              "      <td>29999</td>\n",
              "      <td>portable open system pharmacology version hell...</td>\n",
              "      <td>0</td>\n",
              "      <td>3</td>\n",
              "    </tr>\n",
              "  </tbody>\n",
              "</table>\n",
              "<p>30000 rows × 4 columns</p>\n",
              "</div>"
            ]
          },
          "metadata": {},
          "execution_count": 42
        }
      ]
    },
    {
      "cell_type": "code",
      "metadata": {
        "colab": {
          "base_uri": "https://localhost:8080/"
        },
        "id": "iQvrkoTjv-Q9",
        "outputId": "b31a4dd2-37a1-44ba-95a2-2917e9d16ab0"
      },
      "source": [
        "dst = dataset_test['text'].head(4)\n",
        "dst"
      ],
      "execution_count": null,
      "outputs": [
        {
          "output_type": "execute_result",
          "data": {
            "text/plain": [
              "0    config question path specific environment vari...\n",
              "1             crash indien vol simulator crash hij vol\n",
              "2    unable mine rock sark starting today hit enter...\n",
              "3    whitelists processed create following rule ord...\n",
              "Name: text, dtype: object"
            ]
          },
          "metadata": {},
          "execution_count": 43
        }
      ]
    },
    {
      "cell_type": "code",
      "metadata": {
        "colab": {
          "base_uri": "https://localhost:8080/"
        },
        "id": "MhCyKC7s2Dlg",
        "outputId": "03a10f4b-59e3-4e07-89d9-18c946c5de3f"
      },
      "source": [
        "%%time\n",
        "for item in dst:\n",
        "  print(pred_it(Convert(item)))"
      ],
      "execution_count": null,
      "outputs": [
        {
          "output_type": "stream",
          "name": "stdout",
          "text": [
            "2\n",
            "0\n",
            "0\n",
            "0\n",
            "CPU times: user 481 ms, sys: 94.2 ms, total: 575 ms\n",
            "Wall time: 205 ms\n"
          ]
        }
      ]
    },
    {
      "cell_type": "code",
      "metadata": {
        "id": "SkgEqT5E7XQ0"
      },
      "source": [
        "dataset_test['pred']=dataset_test['text'].apply(lambda x: pred_it(Convert(x)))"
      ],
      "execution_count": null,
      "outputs": []
    },
    {
      "cell_type": "code",
      "metadata": {
        "colab": {
          "base_uri": "https://localhost:8080/"
        },
        "id": "r8B2J7zVFX2w",
        "outputId": "60a5c49e-cc63-421c-b642-13477200b050"
      },
      "source": [
        "dataset_test['pred'].value_counts()"
      ],
      "execution_count": null,
      "outputs": [
        {
          "output_type": "execute_result",
          "data": {
            "text/plain": [
              "1    15117\n",
              "0    12682\n",
              "2     2201\n",
              "Name: pred, dtype: int64"
            ]
          },
          "metadata": {},
          "execution_count": 46
        }
      ]
    },
    {
      "cell_type": "code",
      "metadata": {
        "id": "FC5ysaj-BTkn"
      },
      "source": [
        "from sklearn.metrics import classification_report"
      ],
      "execution_count": null,
      "outputs": []
    },
    {
      "cell_type": "code",
      "metadata": {
        "colab": {
          "base_uri": "https://localhost:8080/"
        },
        "id": "nzGrF_SsAmj6",
        "outputId": "d1bc7dde-52c7-4fd5-c8d2-4f4e842f499b"
      },
      "source": [
        "print(classification_report(dataset_test['label'], dataset_test['pred'] ))"
      ],
      "execution_count": null,
      "outputs": [
        {
          "output_type": "stream",
          "name": "stdout",
          "text": [
            "              precision    recall  f1-score   support\n",
            "\n",
            "           0       1.00      0.42      0.59     30000\n",
            "           1       0.00      0.00      0.00         0\n",
            "           2       0.00      0.00      0.00         0\n",
            "\n",
            "    accuracy                           0.42     30000\n",
            "   macro avg       0.33      0.14      0.20     30000\n",
            "weighted avg       1.00      0.42      0.59     30000\n",
            "\n"
          ]
        }
      ]
    },
    {
      "cell_type": "code",
      "metadata": {
        "colab": {
          "base_uri": "https://localhost:8080/"
        },
        "id": "EjVFtpZuCFp5",
        "outputId": "7b1b6f12-b990-497c-cd04-cc64ce81cd2a"
      },
      "source": [
        "from sklearn.metrics import confusion_matrix\n",
        "confusion_matrix(dataset_test['label'], dataset_test['pred'])"
      ],
      "execution_count": null,
      "outputs": [
        {
          "output_type": "execute_result",
          "data": {
            "text/plain": [
              "array([[12682, 15117,  2201],\n",
              "       [    0,     0,     0],\n",
              "       [    0,     0,     0]])"
            ]
          },
          "metadata": {},
          "execution_count": 49
        }
      ]
    },
    {
      "cell_type": "code",
      "metadata": {
        "colab": {
          "base_uri": "https://localhost:8080/"
        },
        "id": "Iq29I09W7A99",
        "outputId": "7e16623c-082f-47bd-9c84-1705c92c818c"
      },
      "source": [
        "!sudo apt install graphviz"
      ],
      "execution_count": null,
      "outputs": [
        {
          "output_type": "stream",
          "name": "stdout",
          "text": [
            "Reading package lists... Done\n",
            "Building dependency tree       \n",
            "Reading state information... Done\n",
            "graphviz is already the newest version (2.38.0-12ubuntu2.1).\n",
            "0 upgraded, 0 newly installed, 0 to remove and 28 not upgraded.\n"
          ]
        }
      ]
    },
    {
      "cell_type": "code",
      "metadata": {
        "colab": {
          "base_uri": "https://localhost:8080/"
        },
        "id": "he4R8z_a7NVU",
        "outputId": "65d11e1f-409f-4a84-ff78-e725daedf516"
      },
      "source": [
        "!pip install pydot"
      ],
      "execution_count": null,
      "outputs": [
        {
          "output_type": "stream",
          "name": "stdout",
          "text": [
            "Collecting pydot\n",
            "  Using cached pydot-1.4.2-py2.py3-none-any.whl (21 kB)\n",
            "Requirement already satisfied: pyparsing>=2.1.4 in ./venv/lib/python3.6/site-packages (from pydot) (2.4.7)\n",
            "Installing collected packages: pydot\n",
            "Successfully installed pydot-1.4.2\n"
          ]
        }
      ]
    }
  ]
}