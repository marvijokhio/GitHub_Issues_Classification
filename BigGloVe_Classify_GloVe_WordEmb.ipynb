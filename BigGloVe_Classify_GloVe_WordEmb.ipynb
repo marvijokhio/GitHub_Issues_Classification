{
  "nbformat": 4,
  "nbformat_minor": 0,
  "metadata": {
    "colab": {
      "name": "BigGloVe_Classify_GloVe_WordEmb.ipynb",
      "provenance": [],
      "collapsed_sections": []
    },
    "kernelspec": {
      "name": "python3",
      "display_name": "Python 3"
    },
    "language_info": {
      "name": "python"
    }
  },
  "cells": [
    {
      "cell_type": "markdown",
      "metadata": {
        "id": "RE_TbFgpc1iK"
      },
      "source": [
        "#300 dim\n",
        "#200 seq length\n",
        "#10 epoch\n",
        "# CNN\n",
        "# Glove WE"
      ]
    },
    {
      "cell_type": "code",
      "metadata": {
        "colab": {
          "base_uri": "https://localhost:8080/"
        },
        "id": "wKAMl99gjH2p",
        "outputId": "afe49f2c-d779-4e51-8ffd-ad6d037e0d7c"
      },
      "source": [
        "import pandas as pd\n",
        "import numpy as np\n",
        "from sklearn.model_selection import train_test_split\n",
        "from sklearn.metrics import roc_auc_score\n",
        "from collections import Counter\n",
        "from keras.models import model_from_json\n",
        "import tensorflow as tf\n",
        "from tensorflow.keras.preprocessing.text import Tokenizer\n",
        "from tensorflow.keras.preprocessing.sequence import pad_sequences\n",
        "from tensorflow import keras"
      ],
      "execution_count": null,
      "outputs": [
        {
          "output_type": "stream",
          "name": "stderr",
          "text": [
            "/home/mjokhio12/venv/lib/python3.6/site-packages/pandas/compat/__init__.py:120: UserWarning: Could not import the lzma module. Your installed Python is incomplete. Attempting to use lzma compression will result in a RuntimeError.\n",
            "  warnings.warn(msg)\n"
          ]
        }
      ]
    },
    {
      "cell_type": "code",
      "metadata": {
        "id": "k4-6JhxLEjyr"
      },
      "source": [
        "import warnings\n",
        "warnings.filterwarnings('ignore')"
      ],
      "execution_count": null,
      "outputs": []
    },
    {
      "cell_type": "code",
      "metadata": {
        "id": "BOqY_oARNaMl"
      },
      "source": [
        "data = pd.read_csv('msproj/clean_train4.csv')"
      ],
      "execution_count": null,
      "outputs": []
    },
    {
      "cell_type": "code",
      "metadata": {
        "id": "vFF0c5VKNs0I"
      },
      "source": [
        "class_names = ['Bug', 'Feature', 'Question']"
      ],
      "execution_count": null,
      "outputs": []
    },
    {
      "cell_type": "code",
      "metadata": {
        "id": "Uw034ZwHlc3X",
        "colab": {
          "base_uri": "https://localhost:8080/"
        },
        "outputId": "ec691e5a-dcf1-4014-b7d2-c2d0f1ab1bae"
      },
      "source": [
        "%%time\n",
        "train, test = train_test_split(data, test_size=0.2, random_state=42, shuffle=True)\n",
        "\n",
        "train_samples = []   \n",
        "train_labels = []\n",
        "val_samples = []\n",
        "val_labels = []\n",
        "\n",
        "for index, row in train.iterrows():\n",
        "    train_samples.append(row['text'])\n",
        "    train_labels.append(row['label'])\n",
        "    # print(row['text'], row['target'])\n",
        "\n",
        "for index, row in test.iterrows():\n",
        "    val_samples.append(row['text'])\n",
        "    val_labels.append(row['label'])\n",
        "    # print(row['text'], row['target'])"
      ],
      "execution_count": null,
      "outputs": [
        {
          "output_type": "stream",
          "name": "stdout",
          "text": [
            "CPU times: user 33.6 s, sys: 28.9 ms, total: 33.7 s\n",
            "Wall time: 33.8 s\n"
          ]
        }
      ]
    },
    {
      "cell_type": "code",
      "metadata": {
        "colab": {
          "base_uri": "https://localhost:8080/"
        },
        "id": "TwGvG-QtnE7u",
        "outputId": "dcbc2d53-72d7-4ab9-8c03-9c7811c9e97d"
      },
      "source": [
        "print(len(train_samples))\n",
        "print(len(val_labels))"
      ],
      "execution_count": null,
      "outputs": [
        {
          "output_type": "stream",
          "name": "stdout",
          "text": [
            "360000\n",
            "90000\n"
          ]
        }
      ]
    },
    {
      "cell_type": "code",
      "metadata": {
        "id": "dsIm8wGwuJxw"
      },
      "source": [
        "# How many unique words have this text\n",
        "def counter_word(text):\n",
        "    count = Counter()\n",
        "    for i in text.values:\n",
        "        for word in i.split():\n",
        "            count[word] += 1\n",
        "    return count"
      ],
      "execution_count": null,
      "outputs": []
    },
    {
      "cell_type": "code",
      "metadata": {
        "colab": {
          "base_uri": "https://localhost:8080/"
        },
        "id": "jfRx1FVz0IOj",
        "outputId": "0f9e16e5-0b7d-42f9-a1ba-9c658103381d"
      },
      "source": [
        "text_values = train[\"text\"]\n",
        "counter = counter_word(text_values)\n",
        "len(counter)"
      ],
      "execution_count": null,
      "outputs": [
        {
          "output_type": "execute_result",
          "data": {
            "text/plain": [
              "97196"
            ]
          },
          "metadata": {},
          "execution_count": 8
        }
      ]
    },
    {
      "cell_type": "code",
      "metadata": {
        "id": "ecHvKkdFG_xM"
      },
      "source": [
        "vocab_size = len(counter)\n",
        "embedding_dim = 300\n",
        "max_length = 200\n",
        "trunc_type='post'\n",
        "padding_type='post'\n",
        "oov_tok = \"<OOV>\""
      ],
      "execution_count": null,
      "outputs": []
    },
    {
      "cell_type": "code",
      "metadata": {
        "id": "Apglt-IXHQ9j",
        "colab": {
          "base_uri": "https://localhost:8080/"
        },
        "outputId": "db033cd8-c540-4319-fd00-2048ada3358f"
      },
      "source": [
        "%%time\n",
        "tokenizer = Tokenizer(num_words=vocab_size, oov_token=oov_tok)\n",
        "tokenizer.fit_on_texts(train_samples)\n",
        "\n",
        "word_index = tokenizer.word_index\n",
        "\n",
        "training_sequences = tokenizer.texts_to_sequences(train_samples)\n",
        "training_padded = pad_sequences(training_sequences, maxlen=max_length, padding=padding_type, truncating=trunc_type)\n",
        "\n",
        "val_sequences = tokenizer.texts_to_sequences(val_samples)\n",
        "val_padded = pad_sequences(val_sequences, maxlen=max_length, padding=padding_type, truncating=trunc_type)"
      ],
      "execution_count": null,
      "outputs": [
        {
          "output_type": "stream",
          "name": "stdout",
          "text": [
            "CPU times: user 26.4 s, sys: 236 ms, total: 26.6 s\n",
            "Wall time: 26.6 s\n"
          ]
        }
      ]
    },
    {
      "cell_type": "code",
      "metadata": {
        "colab": {
          "base_uri": "https://localhost:8080/"
        },
        "id": "EW31hHv74fD6",
        "outputId": "dcd7f7b6-d8c7-4c65-e67b-38c0eec362d8"
      },
      "source": [
        "len(tokenizer.index_word)"
      ],
      "execution_count": null,
      "outputs": [
        {
          "output_type": "execute_result",
          "data": {
            "text/plain": [
              "97197"
            ]
          },
          "metadata": {},
          "execution_count": 11
        }
      ]
    },
    {
      "cell_type": "code",
      "metadata": {
        "colab": {
          "base_uri": "https://localhost:8080/"
        },
        "id": "rMKelxGLK7II",
        "outputId": "21a42c74-5f23-4ac6-eb46-592d134c7f85"
      },
      "source": [
        "print(len(training_sequences))\n",
        "print(training_padded.shape)"
      ],
      "execution_count": null,
      "outputs": [
        {
          "output_type": "stream",
          "name": "stdout",
          "text": [
            "360000\n",
            "(360000, 200)\n"
          ]
        }
      ]
    },
    {
      "cell_type": "code",
      "metadata": {
        "colab": {
          "base_uri": "https://localhost:8080/"
        },
        "id": "5MLOKOSbKzGu",
        "outputId": "ff5416e1-dbc0-49a4-89a0-a9975069c732"
      },
      "source": [
        "print(len(val_sequences))\n",
        "print(val_padded.shape)"
      ],
      "execution_count": null,
      "outputs": [
        {
          "output_type": "stream",
          "name": "stdout",
          "text": [
            "90000\n",
            "(90000, 200)\n"
          ]
        }
      ]
    },
    {
      "cell_type": "code",
      "metadata": {
        "id": "yX6WzKBsIZah"
      },
      "source": [
        "import csv"
      ],
      "execution_count": null,
      "outputs": []
    },
    {
      "cell_type": "code",
      "metadata": {
        "id": "71u4abzoctES"
      },
      "source": [
        "# open file for writing, \"w\" is writing\n",
        "w = csv.writer(open(\"msproj/Clean_data4_WI.csv\", \"w\"))\n",
        "\n",
        "# loop over dictionary keys and values\n",
        "for key, val in dict(list(word_index.items())).items():\n",
        "\n",
        "    # write every key and value to file\n",
        "    w.writerow([key, val])"
      ],
      "execution_count": null,
      "outputs": []
    },
    {
      "cell_type": "code",
      "metadata": {
        "colab": {
          "base_uri": "https://localhost:8080/"
        },
        "id": "FQnfAz8pIx7w",
        "outputId": "3f466f66-8dd4-428c-db8c-11625910b72d"
      },
      "source": [
        "print(training_sequences[10])"
      ],
      "execution_count": null,
      "outputs": [
        {
          "output_type": "stream",
          "name": "stdout",
          "text": [
            "[11, 1656, 2124, 365, 274, 164, 5195, 1656, 66]\n"
          ]
        }
      ]
    },
    {
      "cell_type": "code",
      "metadata": {
        "colab": {
          "base_uri": "https://localhost:8080/"
        },
        "id": "QD0deor1JHve",
        "outputId": "f49f9067-4877-4ea9-c19a-eef110ad3871"
      },
      "source": [
        "for number in range(5):\n",
        "    print(len(training_sequences[number]))\n",
        "    print(len(training_padded[number]))"
      ],
      "execution_count": null,
      "outputs": [
        {
          "output_type": "stream",
          "name": "stdout",
          "text": [
            "6\n",
            "200\n",
            "13\n",
            "200\n",
            "104\n",
            "200\n",
            "318\n",
            "200\n",
            "38\n",
            "200\n"
          ]
        }
      ]
    },
    {
      "cell_type": "code",
      "metadata": {
        "colab": {
          "base_uri": "https://localhost:8080/"
        },
        "id": "cGh2JDUtJJkL",
        "outputId": "9db846c6-4fa4-471c-8333-f9e1f10aa719"
      },
      "source": [
        "print(training_sequences[10])"
      ],
      "execution_count": null,
      "outputs": [
        {
          "output_type": "stream",
          "name": "stdout",
          "text": [
            "[11, 1656, 2124, 365, 274, 164, 5195, 1656, 66]\n"
          ]
        }
      ]
    },
    {
      "cell_type": "code",
      "metadata": {
        "colab": {
          "base_uri": "https://localhost:8080/"
        },
        "id": "n1ES1HP8JRmU",
        "outputId": "5e645f18-9d18-426c-ddff-7cf23a6bcf5e"
      },
      "source": [
        "print(training_padded[10])"
      ],
      "execution_count": null,
      "outputs": [
        {
          "output_type": "stream",
          "name": "stdout",
          "text": [
            "[  11 1656 2124  365  274  164 5195 1656   66    0    0    0    0    0\n",
            "    0    0    0    0    0    0    0    0    0    0    0    0    0    0\n",
            "    0    0    0    0    0    0    0    0    0    0    0    0    0    0\n",
            "    0    0    0    0    0    0    0    0    0    0    0    0    0    0\n",
            "    0    0    0    0    0    0    0    0    0    0    0    0    0    0\n",
            "    0    0    0    0    0    0    0    0    0    0    0    0    0    0\n",
            "    0    0    0    0    0    0    0    0    0    0    0    0    0    0\n",
            "    0    0    0    0    0    0    0    0    0    0    0    0    0    0\n",
            "    0    0    0    0    0    0    0    0    0    0    0    0    0    0\n",
            "    0    0    0    0    0    0    0    0    0    0    0    0    0    0\n",
            "    0    0    0    0    0    0    0    0    0    0    0    0    0    0\n",
            "    0    0    0    0    0    0    0    0    0    0    0    0    0    0\n",
            "    0    0    0    0    0    0    0    0    0    0    0    0    0    0\n",
            "    0    0    0    0    0    0    0    0    0    0    0    0    0    0\n",
            "    0    0    0    0]\n"
          ]
        }
      ]
    },
    {
      "cell_type": "code",
      "metadata": {
        "colab": {
          "base_uri": "https://localhost:8080/"
        },
        "id": "JdB_w2yPJqHi",
        "outputId": "beb02a59-a9fa-4dcc-a093-51bb0d5d1350"
      },
      "source": [
        "print(training_sequences[0])"
      ],
      "execution_count": null,
      "outputs": [
        {
          "output_type": "stream",
          "name": "stdout",
          "text": [
            "[41, 1056, 41, 1056, 1463, 216]\n"
          ]
        }
      ]
    },
    {
      "cell_type": "code",
      "metadata": {
        "colab": {
          "base_uri": "https://localhost:8080/"
        },
        "id": "SMJE21EXJqD9",
        "outputId": "fae637c4-1e4a-43de-9dc4-93345545d6f3"
      },
      "source": [
        "print(training_padded[0])"
      ],
      "execution_count": null,
      "outputs": [
        {
          "output_type": "stream",
          "name": "stdout",
          "text": [
            "[  41 1056   41 1056 1463  216    0    0    0    0    0    0    0    0\n",
            "    0    0    0    0    0    0    0    0    0    0    0    0    0    0\n",
            "    0    0    0    0    0    0    0    0    0    0    0    0    0    0\n",
            "    0    0    0    0    0    0    0    0    0    0    0    0    0    0\n",
            "    0    0    0    0    0    0    0    0    0    0    0    0    0    0\n",
            "    0    0    0    0    0    0    0    0    0    0    0    0    0    0\n",
            "    0    0    0    0    0    0    0    0    0    0    0    0    0    0\n",
            "    0    0    0    0    0    0    0    0    0    0    0    0    0    0\n",
            "    0    0    0    0    0    0    0    0    0    0    0    0    0    0\n",
            "    0    0    0    0    0    0    0    0    0    0    0    0    0    0\n",
            "    0    0    0    0    0    0    0    0    0    0    0    0    0    0\n",
            "    0    0    0    0    0    0    0    0    0    0    0    0    0    0\n",
            "    0    0    0    0    0    0    0    0    0    0    0    0    0    0\n",
            "    0    0    0    0    0    0    0    0    0    0    0    0    0    0\n",
            "    0    0    0    0]\n"
          ]
        }
      ]
    },
    {
      "cell_type": "code",
      "metadata": {
        "id": "ulW7K1lKHaaj"
      },
      "source": [
        "training_padded = np.array(training_padded)\n",
        "train_labels = np.array(train_labels)\n",
        "val_padded = np.array(val_padded)\n",
        "val_labels = np.array(val_labels)"
      ],
      "execution_count": null,
      "outputs": []
    },
    {
      "cell_type": "code",
      "metadata": {
        "colab": {
          "base_uri": "https://localhost:8080/"
        },
        "id": "OC486m-pIqtJ",
        "outputId": "4ab32b66-5093-4b73-958b-35fb5b369e5c"
      },
      "source": [
        "print(train_labels[0])\n",
        "print(train_labels[1])\n",
        "print(train_labels[2])\n",
        "print(train_labels.shape)\n",
        "\n",
        "print(val_labels[0])\n",
        "print(val_labels[1])\n",
        "print(val_labels[2])\n",
        "print(val_labels.shape)"
      ],
      "execution_count": null,
      "outputs": [
        {
          "output_type": "stream",
          "name": "stdout",
          "text": [
            "1\n",
            "1\n",
            "0\n",
            "(360000,)\n",
            "0\n",
            "0\n",
            "1\n",
            "(90000,)\n"
          ]
        }
      ]
    },
    {
      "cell_type": "code",
      "metadata": {
        "colab": {
          "base_uri": "https://localhost:8080/"
        },
        "id": "hDZirdM_MNGm",
        "outputId": "3a20de4c-d2b3-4aca-b6df-b399fc470fc1"
      },
      "source": [
        "reverse_word_index = dict([(value, key) for (key, value) in word_index.items()])\n",
        "\n",
        "def decode_text(text):\n",
        "    return ' '.join([reverse_word_index.get(i, '?') for i in text])\n",
        "print(decode_text(training_padded[10]))\n",
        "print('---')\n",
        "print(train_samples[10])"
      ],
      "execution_count": null,
      "outputs": [
        {
          "output_type": "stream",
          "name": "stdout",
          "text": [
            "add applicable tax section provide date satisfied applicable option ? ? ? ? ? ? ? ? ? ? ? ? ? ? ? ? ? ? ? ? ? ? ? ? ? ? ? ? ? ? ? ? ? ? ? ? ? ? ? ? ? ? ? ? ? ? ? ? ? ? ? ? ? ? ? ? ? ? ? ? ? ? ? ? ? ? ? ? ? ? ? ? ? ? ? ? ? ? ? ? ? ? ? ? ? ? ? ? ? ? ? ? ? ? ? ? ? ? ? ? ? ? ? ? ? ? ? ? ? ? ? ? ? ? ? ? ? ? ? ? ? ? ? ? ? ? ? ? ? ? ? ? ? ? ? ? ? ? ? ? ? ? ? ? ? ? ? ? ? ? ? ? ? ? ? ? ? ? ? ? ? ? ? ? ? ? ? ? ? ? ? ? ? ? ? ? ? ? ? ? ? ? ? ? ? ? ? ? ? ? ?\n",
            "---\n",
            "add applicable tax section provide date satisfied applicable option\n"
          ]
        }
      ]
    },
    {
      "cell_type": "code",
      "metadata": {
        "id": "TuSNK0IrrCjQ"
      },
      "source": [
        "def load_glove_format(filename: str, embedding_dim: int):\n",
        "    \"\"\"Load pre-trained embedding from a file in glove-embedding-like format:\n",
        "    Each line is a token and its embedding separated by blank space.\n",
        "\n",
        "    Args:\n",
        "        filename: str. File path to pre-trained embedding.\n",
        "        embedding_dim: int. Dimensionality of embedding, used to validate the embedding file.\n",
        "    Returns:\n",
        "        word_vector: Dict(str, np.ndarray), a mapping of words to embeddings.\n",
        "\n",
        "    \"\"\"\n",
        "    word_vectors = {}\n",
        "    with open(filename, 'r') as reader:\n",
        "        for i, line in enumerate(reader):\n",
        "            line = line.strip().split()\n",
        "            word = line[0]\n",
        "            word_vector = np.array([v for v in line[1:]])\n",
        "\n",
        "            if word_vector.shape[0] == embedding_dim:\n",
        "              word_vectors[word] = word_vector\n",
        "\n",
        "    return word_vectors"
      ],
      "execution_count": null,
      "outputs": []
    },
    {
      "cell_type": "code",
      "metadata": {
        "id": "naDzwt_erYPv"
      },
      "source": [
        "dictemb=load_glove_format(\"msproj/embeddings/glove.840B.300d.txt\", 300)"
      ],
      "execution_count": null,
      "outputs": []
    },
    {
      "cell_type": "code",
      "metadata": {
        "id": "f5ZbTtiIiQG4"
      },
      "source": [
        "dict_items = dictemb.items()\n",
        "first_two = list(dict_items)[:2]\n",
        "# print(first_two)"
      ],
      "execution_count": null,
      "outputs": []
    },
    {
      "cell_type": "markdown",
      "metadata": {
        "id": "6pVIgtMYzqRX"
      },
      "source": [
        "Now, let's prepare a corresponding embedding matrix that we can use in a Keras\n",
        "`Embedding` layer. It's a simple NumPy matrix where entry at index `i` is the pre-trained\n",
        "vector for the word of index `i` in our `vectorizer`'s vocabulary."
      ]
    },
    {
      "cell_type": "code",
      "metadata": {
        "id": "gUko2IKW7tOY",
        "colab": {
          "base_uri": "https://localhost:8080/"
        },
        "outputId": "96b97192-3fa1-4755-f9c6-0b576e6b2e76"
      },
      "source": [
        "num_tokens = vocab_size + 2\n",
        "embedding_dim = 300\n",
        "hits = 0\n",
        "misses = 0\n",
        "\n",
        "# Prepare embedding matrix\n",
        "embedding_matrix = np.zeros((num_tokens, embedding_dim))\n",
        "# print(embedding_matrix.shape)\n",
        "for word, i in word_index.items():\n",
        "    embedding_vector = dictemb.get(word)\n",
        "    if embedding_vector is not None:\n",
        "        # Words not found in embedding index will be all-zeros.\n",
        "        # This includes the representation for \"padding\" and \"OOV\"\n",
        "        # print(embedding_vector.shape)\n",
        "        embedding_matrix[i] = embedding_vector\n",
        "        hits += 1\n",
        "    else:\n",
        "        misses += 1\n",
        "print(\"Converted %d words (%d misses)\" % (hits, misses))\n",
        "# embedding_matrix.shape\n",
        "p = (hits*100)/vocab_size\n",
        "print(\"Percentage of vocabulary matched: \", p)"
      ],
      "execution_count": null,
      "outputs": [
        {
          "output_type": "stream",
          "name": "stdout",
          "text": [
            "Converted 78850 words (18347 misses)\n",
            "Percentage of vocabulary matched:  81.12473764352443\n"
          ]
        }
      ]
    },
    {
      "cell_type": "markdown",
      "metadata": {
        "id": "41qm2mqqzqRY"
      },
      "source": [
        "Next, we load the pre-trained word embeddings matrix into an `Embedding` layer.\n",
        "\n",
        "Note that we set `trainable=False` so as to keep the embeddings fixed (we don't want to\n",
        "update them during training)."
      ]
    },
    {
      "cell_type": "code",
      "metadata": {
        "id": "-7g18DL9zqRZ",
        "colab": {
          "base_uri": "https://localhost:8080/"
        },
        "outputId": "58a8edfb-ab12-4de7-eb0c-58a7bb473759"
      },
      "source": [
        "%%time\n",
        "from tensorflow.keras.layers import Embedding\n",
        "\n",
        "embedding_layer = Embedding( num_tokens, embedding_dim, embeddings_initializer=keras.initializers.Constant(embedding_matrix), trainable=False )"
      ],
      "execution_count": null,
      "outputs": [
        {
          "output_type": "stream",
          "name": "stdout",
          "text": [
            "CPU times: user 13.5 ms, sys: 3.79 ms, total: 17.3 ms\n",
            "Wall time: 16.8 ms\n"
          ]
        }
      ]
    },
    {
      "cell_type": "markdown",
      "metadata": {
        "id": "3m8hj_IuzqRZ"
      },
      "source": [
        "## Build the model\n",
        "\n",
        "A simple 1D convnet with global max pooling and a classifier at the end."
      ]
    },
    {
      "cell_type": "code",
      "metadata": {
        "id": "vUzl2mCczqRZ",
        "colab": {
          "base_uri": "https://localhost:8080/"
        },
        "outputId": "32d094d3-5266-4dfa-8b46-af8a43628c6e"
      },
      "source": [
        "%%time\n",
        "from tensorflow.keras import layers\n",
        "\n",
        "int_sequences_input = keras.Input(shape=(None,), dtype=\"int64\")\n",
        "embedded_sequences = embedding_layer(int_sequences_input)\n",
        "x = layers.Conv1D(128, 5, activation=\"relu\")(embedded_sequences)\n",
        "x = layers.MaxPooling1D(5)(x)\n",
        "x = layers.Conv1D(128, 5, activation=\"relu\")(x)\n",
        "x = layers.MaxPooling1D(5)(x)\n",
        "x = layers.Conv1D(128, 5, activation=\"relu\")(x)\n",
        "x = layers.GlobalMaxPooling1D()(x)\n",
        "x = layers.Dense(128, activation=\"relu\")(x)\n",
        "x = layers.Dropout(0.5)(x)\n",
        "preds = layers.Dense(len(class_names), activation=\"softmax\")(x)\n",
        "model = keras.Model(int_sequences_input, preds)\n",
        "model.summary()"
      ],
      "execution_count": null,
      "outputs": [
        {
          "output_type": "stream",
          "name": "stdout",
          "text": [
            "Model: \"model\"\n",
            "_________________________________________________________________\n",
            "Layer (type)                 Output Shape              Param #   \n",
            "=================================================================\n",
            "input_1 (InputLayer)         [(None, None)]            0         \n",
            "_________________________________________________________________\n",
            "embedding (Embedding)        (None, None, 300)         29159400  \n",
            "_________________________________________________________________\n",
            "conv1d (Conv1D)              (None, None, 128)         192128    \n",
            "_________________________________________________________________\n",
            "max_pooling1d (MaxPooling1D) (None, None, 128)         0         \n",
            "_________________________________________________________________\n",
            "conv1d_1 (Conv1D)            (None, None, 128)         82048     \n",
            "_________________________________________________________________\n",
            "max_pooling1d_1 (MaxPooling1 (None, None, 128)         0         \n",
            "_________________________________________________________________\n",
            "conv1d_2 (Conv1D)            (None, None, 128)         82048     \n",
            "_________________________________________________________________\n",
            "global_max_pooling1d (Global (None, 128)               0         \n",
            "_________________________________________________________________\n",
            "dense (Dense)                (None, 128)               16512     \n",
            "_________________________________________________________________\n",
            "dropout (Dropout)            (None, 128)               0         \n",
            "_________________________________________________________________\n",
            "dense_1 (Dense)              (None, 3)                 387       \n",
            "=================================================================\n",
            "Total params: 29,532,523\n",
            "Trainable params: 373,123\n",
            "Non-trainable params: 29,159,400\n",
            "_________________________________________________________________\n",
            "CPU times: user 269 ms, sys: 93.4 ms, total: 362 ms\n",
            "Wall time: 362 ms\n"
          ]
        }
      ]
    },
    {
      "cell_type": "markdown",
      "metadata": {
        "id": "l9_yaEXCzqRZ"
      },
      "source": [
        "## Train the model\n",
        "\n",
        "First, convert our list-of-strings data to NumPy arrays of integer indices. The arrays\n",
        "are right-padded."
      ]
    },
    {
      "cell_type": "markdown",
      "metadata": {
        "id": "t2k_Q1UmzqRa"
      },
      "source": [
        "We use categorical crossentropy as our loss since we're doing softmax classification.\n",
        "Moreover, we use `sparse_categorical_crossentropy` since our labels are integers."
      ]
    },
    {
      "cell_type": "code",
      "metadata": {
        "id": "RpUdt4jdzqRa",
        "colab": {
          "base_uri": "https://localhost:8080/"
        },
        "outputId": "46f45bef-8a6c-4809-d8bb-1bc8262c953c"
      },
      "source": [
        "%%time\n",
        "model.compile(\n",
        "    loss=\"sparse_categorical_crossentropy\", optimizer=\"rmsprop\", metrics=[\"acc\"]\n",
        ")\n",
        "history =  model.fit(training_padded, train_labels, batch_size=128, epochs=10, validation_data=(val_padded, val_labels))"
      ],
      "execution_count": null,
      "outputs": [
        {
          "output_type": "stream",
          "name": "stdout",
          "text": [
            "Epoch 1/10\n",
            "2813/2813 [==============================] - 245s 87ms/step - loss: 0.6654 - acc: 0.7339 - val_loss: 0.6304 - val_acc: 0.7470\n",
            "Epoch 2/10\n",
            "2813/2813 [==============================] - 244s 87ms/step - loss: 0.6025 - acc: 0.7671 - val_loss: 0.5928 - val_acc: 0.7687\n",
            "Epoch 3/10\n",
            "2813/2813 [==============================] - 243s 86ms/step - loss: 0.5775 - acc: 0.7784 - val_loss: 0.6626 - val_acc: 0.7496\n",
            "Epoch 4/10\n",
            "2813/2813 [==============================] - 241s 86ms/step - loss: 0.5572 - acc: 0.7866 - val_loss: 0.6625 - val_acc: 0.7493\n",
            "Epoch 5/10\n",
            "2813/2813 [==============================] - 243s 86ms/step - loss: 0.5399 - acc: 0.7939 - val_loss: 0.6726 - val_acc: 0.7588\n",
            "Epoch 6/10\n",
            "2813/2813 [==============================] - 241s 86ms/step - loss: 0.5252 - acc: 0.8005 - val_loss: 0.6744 - val_acc: 0.7548\n",
            "Epoch 7/10\n",
            "2813/2813 [==============================] - 197s 70ms/step - loss: 0.5132 - acc: 0.8071 - val_loss: 0.6970 - val_acc: 0.7557\n",
            "Epoch 8/10\n",
            "2813/2813 [==============================] - 155s 55ms/step - loss: 0.4990 - acc: 0.8127 - val_loss: 0.7372 - val_acc: 0.7405\n",
            "Epoch 9/10\n",
            "2813/2813 [==============================] - 155s 55ms/step - loss: 0.4884 - acc: 0.8166 - val_loss: 0.8642 - val_acc: 0.7451\n",
            "Epoch 10/10\n",
            "2813/2813 [==============================] - 155s 55ms/step - loss: 0.4769 - acc: 0.8219 - val_loss: 0.9413 - val_acc: 0.7374\n",
            "CPU times: user 4h 45min 30s, sys: 9min 55s, total: 4h 55min 25s\n",
            "Wall time: 35min 18s\n"
          ]
        }
      ]
    },
    {
      "cell_type": "markdown",
      "metadata": {
        "id": "Djc5Y7Y8jIZT"
      },
      "source": [
        "# evaluate model"
      ]
    },
    {
      "cell_type": "code",
      "metadata": {
        "id": "6p6O1Qp_uc2n",
        "colab": {
          "base_uri": "https://localhost:8080/"
        },
        "outputId": "d989bf13-0acc-4ce8-d220-e686af01b513"
      },
      "source": [
        "# evaluate model\n",
        "yhat = model.predict(val_padded)\n",
        "score = roc_auc_score(val_labels, yhat,multi_class='ovr')\n",
        "print('ROC AUC: %.3f' % score)"
      ],
      "execution_count": null,
      "outputs": [
        {
          "output_type": "stream",
          "name": "stdout",
          "text": [
            "ROC AUC: 0.835\n"
          ]
        }
      ]
    },
    {
      "cell_type": "code",
      "metadata": {
        "id": "ozOlF2FEuczy",
        "colab": {
          "base_uri": "https://localhost:8080/",
          "height": 541
        },
        "outputId": "0f85a567-ea09-4ba0-9316-ffc8e828b031"
      },
      "source": [
        "import matplotlib.pyplot as plt\n",
        "\n",
        "def plot_graphs(history, string):\n",
        "  plt.plot(history.history[string])\n",
        "  plt.plot(history.history['val_'+string])\n",
        "  plt.xlabel(\"Epochs\")\n",
        "  plt.ylabel(string)\n",
        "  plt.legend([string, 'val_'+string])\n",
        "  plt.show()\n",
        "  \n",
        "plot_graphs(history, \"acc\")\n",
        "plot_graphs(history, \"loss\")"
      ],
      "execution_count": null,
      "outputs": [
        {
          "output_type": "display_data",
          "data": {
            "text/plain": [
              "<Figure size 432x288 with 1 Axes>"
            ],
            "image/png": "[encoded data removed]"
          },
          "metadata": {
            "needs_background": "light"
          }
        },
        {
          "output_type": "display_data",
          "data": {
            "text/plain": [
              "<Figure size 432x288 with 1 Axes>"
            ],
            "image/png": "[encoded data removed]"
          },
          "metadata": {
            "needs_background": "light"
          }
        }
      ]
    },
    {
      "cell_type": "code",
      "metadata": {
        "id": "fxe9D8jeucw5",
        "colab": {
          "base_uri": "https://localhost:8080/"
        },
        "outputId": "934d0456-e533-4166-f868-0e0635f2a38f"
      },
      "source": [
        "reverse_word_index = dict([(value, key) for (key, value) in word_index.items()])\n",
        "\n",
        "def decode_sentence(text):\n",
        "    return ' '.join([reverse_word_index.get(i, '?') for i in text])\n",
        "\n",
        "print(decode_sentence(training_padded[0]))\n",
        "print(train_samples[2])\n",
        "print(train_labels[2])"
      ],
      "execution_count": null,
      "outputs": [
        {
          "output_type": "stream",
          "name": "stdout",
          "text": [
            "create animation create animation texture array ? ? ? ? ? ? ? ? ? ? ? ? ? ? ? ? ? ? ? ? ? ? ? ? ? ? ? ? ? ? ? ? ? ? ? ? ? ? ? ? ? ? ? ? ? ? ? ? ? ? ? ? ? ? ? ? ? ? ? ? ? ? ? ? ? ? ? ? ? ? ? ? ? ? ? ? ? ? ? ? ? ? ? ? ? ? ? ? ? ? ? ? ? ? ? ? ? ? ? ? ? ? ? ? ? ? ? ? ? ? ? ? ? ? ? ? ? ? ? ? ? ? ? ? ? ? ? ? ? ? ? ? ? ? ? ? ? ? ? ? ? ? ? ? ? ? ? ? ? ? ? ? ? ? ? ? ? ? ? ? ? ? ? ? ? ? ? ? ? ? ? ? ? ? ? ? ? ? ? ? ? ? ? ? ? ? ? ? ? ? ? ? ? ?\n",
            "inbox sum unread problem count equal unread count language happened time able figure exactly circumstance occurs case seems happening ruby track example unread item hamming unread item anagram one would think mean unread item total ruby counter say click hamming item one one hamming ruby counter decrease also click two anagram item decrease counter well left one anagram item unread zero ruby item unread expect ruby counter instead right screenshot current inbox stand http img may unread count ruby track synced going read submission leave last one submission unread help diagnose issue way see difference square submission see difference square since submitted solution problem\n",
            "0\n"
          ]
        }
      ]
    },
    {
      "cell_type": "code",
      "metadata": {
        "id": "bbR7K5RpmWHj",
        "colab": {
          "base_uri": "https://localhost:8080/"
        },
        "outputId": "307a5fa2-0a93-4775-f41a-1169936370e5"
      },
      "source": [
        "txt = [\"Why binary_crossentropy and categorical_crossentropy give different performances for the same problem\"]\n",
        "seq = tokenizer.texts_to_sequences(txt)\n",
        "padded = pad_sequences(seq, maxlen=max_length,padding=padding_type, truncating=trunc_type)\n",
        "pred = model.predict(padded)\n",
        "labels = ['bug', 'feature', 'question']\n",
        "print(pred, labels[np.argmax(pred)])"
      ],
      "execution_count": null,
      "outputs": [
        {
          "output_type": "stream",
          "name": "stdout",
          "text": [
            "[[0.57348114 0.20520695 0.22131196]] bug\n"
          ]
        }
      ]
    },
    {
      "cell_type": "code",
      "metadata": {
        "id": "2Fa3Az_w4ZVN"
      },
      "source": [
        "def Convert(stng):\n",
        "  li = []\n",
        "  li.append(stng)\n",
        "  return li"
      ],
      "execution_count": null,
      "outputs": []
    },
    {
      "cell_type": "code",
      "metadata": {
        "id": "m2--oDdThY64"
      },
      "source": [
        "txt = \"unable mine rock sark starting today hit enter.\"\n",
        "\n",
        "def pred_it(txt):\n",
        "  seq = tokenizer.texts_to_sequences(txt)\n",
        "  padded = pad_sequences(seq, maxlen=max_length,padding=padding_type, truncating=trunc_type)\n",
        "  pred = model.predict(padded)\n",
        "  labels = [0, 1, 2]\n",
        "  return labels[np.argmax(pred)]  "
      ],
      "execution_count": null,
      "outputs": []
    },
    {
      "cell_type": "code",
      "metadata": {
        "id": "f-aGtwBrzRvg",
        "colab": {
          "base_uri": "https://localhost:8080/"
        },
        "outputId": "7063b7af-948c-4bf7-e2c7-2af7dd59c772"
      },
      "source": [
        "print(Convert(txt))\n",
        "pred_it(Convert(txt))"
      ],
      "execution_count": null,
      "outputs": [
        {
          "output_type": "stream",
          "name": "stdout",
          "text": [
            "['unable mine rock sark starting today hit enter.']\n"
          ]
        },
        {
          "output_type": "execute_result",
          "data": {
            "text/plain": [
              "0"
            ]
          },
          "metadata": {},
          "execution_count": 38
        }
      ]
    },
    {
      "cell_type": "markdown",
      "metadata": {
        "id": "DwxAOmEhhHDJ"
      },
      "source": [
        "## Export an end-to-end model\n",
        "\n",
        "Now, we may want to export a `Model` object that takes as input a string of arbitrary\n",
        "length, rather than a sequence of indices. It would make the model much more portable,\n",
        "since you wouldn't have to worry about the input preprocessing pipeline.\n",
        "\n",
        "Our `vectorizer` is actually a Keras layer, so it's simple:"
      ]
    },
    {
      "cell_type": "code",
      "metadata": {
        "id": "dAfhnTjMj2WV",
        "colab": {
          "base_uri": "https://localhost:8080/"
        },
        "outputId": "2873e84a-2290-4dc6-dfbb-5f94bf2bc4c5"
      },
      "source": [
        "from keras.models import model_from_json\n",
        "# serialize model to JSON\n",
        "model_json = model.to_json()\n",
        "with open(\"msproj/Classify_GloVe_WordEmbv2.json\", \"w\") as json_file:\n",
        "    json_file.write(model_json)\n",
        "# serialize weights to HDF5\n",
        "model.save_weights(\"msproj/Classify_GloVe_WordEmbv2.h5\")\n",
        "print(\"Saved model to disk\")\n",
        " "
      ],
      "execution_count": null,
      "outputs": [
        {
          "output_type": "stream",
          "name": "stdout",
          "text": [
            "Saved model to disk\n"
          ]
        }
      ]
    },
    {
      "cell_type": "code",
      "metadata": {
        "id": "1Vojw_HAj2WW"
      },
      "source": [
        "# # load json and create model\n",
        "# json_file = open('msproj/Classify_GloVe_WordEmbv2.json', 'r')\n",
        "# loaded_model_json = json_file.read()\n",
        "# json_file.close()\n",
        "# loaded_model = model_from_json(loaded_model_json)\n",
        "# # load weights into new model\n",
        "# loaded_model.load_weights(\"msproj/Classify_GloVe_WordEmbv2.h5\")\n",
        "# print(\"Loaded model from disk\")"
      ],
      "execution_count": null,
      "outputs": []
    },
    {
      "cell_type": "code",
      "metadata": {
        "id": "ne4eIaqD19m3",
        "colab": {
          "base_uri": "https://localhost:8080/",
          "height": 419
        },
        "outputId": "a29fab0b-3663-4cb2-9cf3-abb43a962c42"
      },
      "source": [
        "dataset_test = pd.read_csv('msproj/clean_test4.csv')\n",
        "dataset_test['pred'] = 3\n",
        "dataset_test"
      ],
      "execution_count": null,
      "outputs": [
        {
          "output_type": "execute_result",
          "data": {
            "text/plain": [
              "       Unnamed: 0                                               text  label  \\\n",
              "0               0  config question path specific environment vari...      0   \n",
              "1               1           crash indien vol simulator crash hij vol      0   \n",
              "2               2  unable mine rock sark starting today hit enter...      0   \n",
              "3               3  whitelists processed create following rule ord...      0   \n",
              "4               4  add ctx menu ida free ida free associated dll ...      0   \n",
              "...           ...                                                ...    ...   \n",
              "29995       29995  closing project running simulation stop simula...      0   \n",
              "29996       29996  missing table description iseries driver table...      0   \n",
              "29997       29997  case notification shown new message always cha...      0   \n",
              "29998       29998  error syncing see following error log error ja...      0   \n",
              "29999       29999  portable open system pharmacology version hell...      0   \n",
              "\n",
              "       pred  \n",
              "0         3  \n",
              "1         3  \n",
              "2         3  \n",
              "3         3  \n",
              "4         3  \n",
              "...     ...  \n",
              "29995     3  \n",
              "29996     3  \n",
              "29997     3  \n",
              "29998     3  \n",
              "29999     3  \n",
              "\n",
              "[30000 rows x 4 columns]"
            ],
            "text/html": [
              "<div>\n",
              "<style scoped>\n",
              "    .dataframe tbody tr th:only-of-type {\n",
              "        vertical-align: middle;\n",
              "    }\n",
              "\n",
              "    .dataframe tbody tr th {\n",
              "        vertical-align: top;\n",
              "    }\n",
              "\n",
              "    .dataframe thead th {\n",
              "        text-align: right;\n",
              "    }\n",
              "</style>\n",
              "<table border=\"1\" class=\"dataframe\">\n",
              "  <thead>\n",
              "    <tr style=\"text-align: right;\">\n",
              "      <th></th>\n",
              "      <th>Unnamed: 0</th>\n",
              "      <th>text</th>\n",
              "      <th>label</th>\n",
              "      <th>pred</th>\n",
              "    </tr>\n",
              "  </thead>\n",
              "  <tbody>\n",
              "    <tr>\n",
              "      <th>0</th>\n",
              "      <td>0</td>\n",
              "      <td>config question path specific environment vari...</td>\n",
              "      <td>0</td>\n",
              "      <td>3</td>\n",
              "    </tr>\n",
              "    <tr>\n",
              "      <th>1</th>\n",
              "      <td>1</td>\n",
              "      <td>crash indien vol simulator crash hij vol</td>\n",
              "      <td>0</td>\n",
              "      <td>3</td>\n",
              "    </tr>\n",
              "    <tr>\n",
              "      <th>2</th>\n",
              "      <td>2</td>\n",
              "      <td>unable mine rock sark starting today hit enter...</td>\n",
              "      <td>0</td>\n",
              "      <td>3</td>\n",
              "    </tr>\n",
              "    <tr>\n",
              "      <th>3</th>\n",
              "      <td>3</td>\n",
              "      <td>whitelists processed create following rule ord...</td>\n",
              "      <td>0</td>\n",
              "      <td>3</td>\n",
              "    </tr>\n",
              "    <tr>\n",
              "      <th>4</th>\n",
              "      <td>4</td>\n",
              "      <td>add ctx menu ida free ida free associated dll ...</td>\n",
              "      <td>0</td>\n",
              "      <td>3</td>\n",
              "    </tr>\n",
              "    <tr>\n",
              "      <th>...</th>\n",
              "      <td>...</td>\n",
              "      <td>...</td>\n",
              "      <td>...</td>\n",
              "      <td>...</td>\n",
              "    </tr>\n",
              "    <tr>\n",
              "      <th>29995</th>\n",
              "      <td>29995</td>\n",
              "      <td>closing project running simulation stop simula...</td>\n",
              "      <td>0</td>\n",
              "      <td>3</td>\n",
              "    </tr>\n",
              "    <tr>\n",
              "      <th>29996</th>\n",
              "      <td>29996</td>\n",
              "      <td>missing table description iseries driver table...</td>\n",
              "      <td>0</td>\n",
              "      <td>3</td>\n",
              "    </tr>\n",
              "    <tr>\n",
              "      <th>29997</th>\n",
              "      <td>29997</td>\n",
              "      <td>case notification shown new message always cha...</td>\n",
              "      <td>0</td>\n",
              "      <td>3</td>\n",
              "    </tr>\n",
              "    <tr>\n",
              "      <th>29998</th>\n",
              "      <td>29998</td>\n",
              "      <td>error syncing see following error log error ja...</td>\n",
              "      <td>0</td>\n",
              "      <td>3</td>\n",
              "    </tr>\n",
              "    <tr>\n",
              "      <th>29999</th>\n",
              "      <td>29999</td>\n",
              "      <td>portable open system pharmacology version hell...</td>\n",
              "      <td>0</td>\n",
              "      <td>3</td>\n",
              "    </tr>\n",
              "  </tbody>\n",
              "</table>\n",
              "<p>30000 rows × 4 columns</p>\n",
              "</div>"
            ]
          },
          "metadata": {},
          "execution_count": 41
        }
      ]
    },
    {
      "cell_type": "code",
      "metadata": {
        "id": "iQvrkoTjv-Q9",
        "colab": {
          "base_uri": "https://localhost:8080/"
        },
        "outputId": "a71f821a-bf85-458a-d21a-30e710bf0868"
      },
      "source": [
        "dst = dataset_test['text'].head(4)\n",
        "dst"
      ],
      "execution_count": null,
      "outputs": [
        {
          "output_type": "execute_result",
          "data": {
            "text/plain": [
              "0    config question path specific environment vari...\n",
              "1             crash indien vol simulator crash hij vol\n",
              "2    unable mine rock sark starting today hit enter...\n",
              "3    whitelists processed create following rule ord...\n",
              "Name: text, dtype: object"
            ]
          },
          "metadata": {},
          "execution_count": 42
        }
      ]
    },
    {
      "cell_type": "code",
      "metadata": {
        "id": "MhCyKC7s2Dlg",
        "colab": {
          "base_uri": "https://localhost:8080/"
        },
        "outputId": "bd5f6133-bdcd-4d6a-b68e-2972efaa1c90"
      },
      "source": [
        "%%time\n",
        "for item in dst:\n",
        "  print(pred_it(Convert(item)))"
      ],
      "execution_count": null,
      "outputs": [
        {
          "output_type": "stream",
          "name": "stdout",
          "text": [
            "2\n",
            "0\n",
            "0\n",
            "0\n",
            "CPU times: user 132 ms, sys: 20.1 ms, total: 152 ms\n",
            "Wall time: 124 ms\n"
          ]
        }
      ]
    },
    {
      "cell_type": "code",
      "metadata": {
        "id": "SkgEqT5E7XQ0"
      },
      "source": [
        "dataset_test['pred']=dataset_test['text'].apply(lambda x: pred_it(Convert(x)))"
      ],
      "execution_count": null,
      "outputs": []
    },
    {
      "cell_type": "code",
      "metadata": {
        "id": "r8B2J7zVFX2w",
        "colab": {
          "base_uri": "https://localhost:8080/"
        },
        "outputId": "b17c531f-59f2-448d-e507-c0dda2db2e82"
      },
      "source": [
        "dataset_test['pred'].value_counts()"
      ],
      "execution_count": null,
      "outputs": [
        {
          "output_type": "execute_result",
          "data": {
            "text/plain": [
              "0    17090\n",
              "1    11671\n",
              "2     1239\n",
              "Name: pred, dtype: int64"
            ]
          },
          "metadata": {},
          "execution_count": 45
        }
      ]
    },
    {
      "cell_type": "code",
      "metadata": {
        "id": "FC5ysaj-BTkn"
      },
      "source": [
        "from sklearn.metrics import classification_report"
      ],
      "execution_count": null,
      "outputs": []
    },
    {
      "cell_type": "code",
      "metadata": {
        "id": "nzGrF_SsAmj6",
        "colab": {
          "base_uri": "https://localhost:8080/"
        },
        "outputId": "2de7de17-f7b1-4ed1-eb94-be8590b8d03a"
      },
      "source": [
        "print(classification_report(dataset_test['label'], dataset_test['pred'] ))"
      ],
      "execution_count": null,
      "outputs": [
        {
          "output_type": "stream",
          "name": "stdout",
          "text": [
            "              precision    recall  f1-score   support\n",
            "\n",
            "           0       1.00      0.57      0.73     30000\n",
            "           1       0.00      0.00      0.00         0\n",
            "           2       0.00      0.00      0.00         0\n",
            "\n",
            "    accuracy                           0.57     30000\n",
            "   macro avg       0.33      0.19      0.24     30000\n",
            "weighted avg       1.00      0.57      0.73     30000\n",
            "\n"
          ]
        }
      ]
    },
    {
      "cell_type": "code",
      "metadata": {
        "id": "EjVFtpZuCFp5",
        "colab": {
          "base_uri": "https://localhost:8080/"
        },
        "outputId": "ba3a0388-d24f-48ed-f994-b9eabef77d7b"
      },
      "source": [
        "from sklearn.metrics import confusion_matrix\n",
        "confusion_matrix(dataset_test['label'], dataset_test['pred'])"
      ],
      "execution_count": null,
      "outputs": [
        {
          "output_type": "execute_result",
          "data": {
            "text/plain": [
              "array([[17090, 11671,  1239],\n",
              "       [    0,     0,     0],\n",
              "       [    0,     0,     0]])"
            ]
          },
          "metadata": {},
          "execution_count": 48
        }
      ]
    }
  ]
}