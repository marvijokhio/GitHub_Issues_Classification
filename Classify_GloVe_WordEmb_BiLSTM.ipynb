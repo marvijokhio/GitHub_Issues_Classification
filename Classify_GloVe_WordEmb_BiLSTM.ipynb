{
  "nbformat": 4,
  "nbformat_minor": 0,
  "metadata": {
    "colab": {
      "name": "Classify_GloVe_WordEmb_BiLSTM.ipynb",
      "provenance": [],
      "collapsed_sections": []
    },
    "kernelspec": {
      "name": "python3",
      "display_name": "Python 3"
    },
    "language_info": {
      "name": "python"
    }
  },
  "cells": [
    {
      "cell_type": "markdown",
      "metadata": {
        "id": "dR36L2UvgusS"
      },
      "source": [
        "#200 dim\n",
        "#200 seq length\n",
        "#10 epoch\n",
        "# LSTM\n",
        "# Glove WE"
      ]
    },
    {
      "cell_type": "code",
      "metadata": {
        "id": "wKAMl99gjH2p",
        "colab": {
          "base_uri": "https://localhost:8080/"
        },
        "outputId": "2fca5dd0-e9ae-4766-f087-3536c5245e72"
      },
      "source": [
        "import pandas as pd\n",
        "import numpy as np\n",
        "from sklearn.model_selection import train_test_split\n",
        "from sklearn.metrics import roc_auc_score\n",
        "from collections import Counter\n",
        "from keras.models import model_from_json\n",
        "import tensorflow as tf\n",
        "from tensorflow.keras.preprocessing.text import Tokenizer\n",
        "from tensorflow.keras.preprocessing.sequence import pad_sequences\n",
        "from tensorflow import keras"
      ],
      "execution_count": null,
      "outputs": [
        {
          "output_type": "stream",
          "name": "stderr",
          "text": [
            "/home/mjokhio12/venv/lib/python3.6/site-packages/pandas/compat/__init__.py:120: UserWarning: Could not import the lzma module. Your installed Python is incomplete. Attempting to use lzma compression will result in a RuntimeError.\n",
            "  warnings.warn(msg)\n"
          ]
        }
      ]
    },
    {
      "cell_type": "code",
      "metadata": {
        "id": "k4-6JhxLEjyr"
      },
      "source": [
        "import warnings\n",
        "warnings.filterwarnings('ignore')"
      ],
      "execution_count": null,
      "outputs": []
    },
    {
      "cell_type": "code",
      "metadata": {
        "id": "BOqY_oARNaMl"
      },
      "source": [
        "data = pd.read_csv('msproj/clean_train4.csv')"
      ],
      "execution_count": null,
      "outputs": []
    },
    {
      "cell_type": "code",
      "metadata": {
        "id": "vFF0c5VKNs0I"
      },
      "source": [
        "class_names = ['Bug', 'Feature', 'Question']"
      ],
      "execution_count": null,
      "outputs": []
    },
    {
      "cell_type": "code",
      "metadata": {
        "id": "Uw034ZwHlc3X",
        "colab": {
          "base_uri": "https://localhost:8080/"
        },
        "outputId": "2380a11a-a186-4cde-ff07-dc03c492ac7e"
      },
      "source": [
        "%%time\n",
        "train, test = train_test_split(data, test_size=0.2, random_state=42, shuffle=True)\n",
        "\n",
        "train_samples = []   \n",
        "train_labels = []\n",
        "val_samples = []\n",
        "val_labels = []\n",
        "\n",
        "for index, row in train.iterrows():\n",
        "    train_samples.append(row['text'])\n",
        "    train_labels.append(row['label'])\n",
        "    # print(row['text'], row['target'])\n",
        "\n",
        "for index, row in test.iterrows():\n",
        "    val_samples.append(row['text'])\n",
        "    val_labels.append(row['label'])\n",
        "    # print(row['text'], row['target'])"
      ],
      "execution_count": null,
      "outputs": [
        {
          "output_type": "stream",
          "name": "stdout",
          "text": [
            "CPU times: user 34.1 s, sys: 18.1 ms, total: 34.1 s\n",
            "Wall time: 34.2 s\n"
          ]
        }
      ]
    },
    {
      "cell_type": "code",
      "metadata": {
        "id": "TwGvG-QtnE7u",
        "colab": {
          "base_uri": "https://localhost:8080/"
        },
        "outputId": "bc219402-0f0d-4340-f70c-16b64b8d81f5"
      },
      "source": [
        "print(len(train_samples))\n",
        "print(len(val_labels))"
      ],
      "execution_count": null,
      "outputs": [
        {
          "output_type": "stream",
          "name": "stdout",
          "text": [
            "360000\n",
            "90000\n"
          ]
        }
      ]
    },
    {
      "cell_type": "code",
      "metadata": {
        "id": "dsIm8wGwuJxw"
      },
      "source": [
        "# How many unique words have this text\n",
        "def counter_word(text):\n",
        "    count = Counter()\n",
        "    for i in text.values:\n",
        "        for word in i.split():\n",
        "            count[word] += 1\n",
        "    return count"
      ],
      "execution_count": null,
      "outputs": []
    },
    {
      "cell_type": "code",
      "metadata": {
        "id": "jfRx1FVz0IOj",
        "colab": {
          "base_uri": "https://localhost:8080/"
        },
        "outputId": "8fa272ec-a593-4217-e87f-b66cbff8b89c"
      },
      "source": [
        "text_values = train[\"text\"]\n",
        "counter = counter_word(text_values)\n",
        "len(counter)"
      ],
      "execution_count": null,
      "outputs": [
        {
          "output_type": "execute_result",
          "data": {
            "text/plain": [
              "97196"
            ]
          },
          "metadata": {},
          "execution_count": 8
        }
      ]
    },
    {
      "cell_type": "code",
      "metadata": {
        "id": "ecHvKkdFG_xM"
      },
      "source": [
        "vocab_size = len(counter)\n",
        "embedding_dim = 200\n",
        "max_length = 200\n",
        "trunc_type='post'\n",
        "padding_type='post'\n",
        "oov_tok = \"<OOV>\""
      ],
      "execution_count": null,
      "outputs": []
    },
    {
      "cell_type": "code",
      "metadata": {
        "id": "Apglt-IXHQ9j",
        "colab": {
          "base_uri": "https://localhost:8080/"
        },
        "outputId": "aee3cd2e-e998-4627-f23e-faf51a86c4d5"
      },
      "source": [
        "%%time\n",
        "tokenizer = Tokenizer(num_words=vocab_size, oov_token=oov_tok)\n",
        "tokenizer.fit_on_texts(train_samples)\n",
        "\n",
        "word_index = tokenizer.word_index\n",
        "\n",
        "training_sequences = tokenizer.texts_to_sequences(train_samples)\n",
        "training_padded = pad_sequences(training_sequences, maxlen=max_length, padding=padding_type, truncating=trunc_type)\n",
        "\n",
        "val_sequences = tokenizer.texts_to_sequences(val_samples)\n",
        "val_padded = pad_sequences(val_sequences, maxlen=max_length, padding=padding_type, truncating=trunc_type)"
      ],
      "execution_count": null,
      "outputs": [
        {
          "output_type": "stream",
          "name": "stdout",
          "text": [
            "CPU times: user 26.7 s, sys: 228 ms, total: 27 s\n",
            "Wall time: 27 s\n"
          ]
        }
      ]
    },
    {
      "cell_type": "code",
      "metadata": {
        "colab": {
          "base_uri": "https://localhost:8080/"
        },
        "id": "EW31hHv74fD6",
        "outputId": "a9833fc8-5061-4e7e-eae0-6b1f3806e001"
      },
      "source": [
        "len(tokenizer.index_word)"
      ],
      "execution_count": null,
      "outputs": [
        {
          "output_type": "execute_result",
          "data": {
            "text/plain": [
              "97197"
            ]
          },
          "metadata": {},
          "execution_count": 11
        }
      ]
    },
    {
      "cell_type": "code",
      "metadata": {
        "id": "rMKelxGLK7II",
        "colab": {
          "base_uri": "https://localhost:8080/"
        },
        "outputId": "a282e1f7-7bcb-473e-ed80-5801c9638309"
      },
      "source": [
        "print(len(training_sequences))\n",
        "print(training_padded.shape)"
      ],
      "execution_count": null,
      "outputs": [
        {
          "output_type": "stream",
          "name": "stdout",
          "text": [
            "360000\n",
            "(360000, 200)\n"
          ]
        }
      ]
    },
    {
      "cell_type": "code",
      "metadata": {
        "colab": {
          "base_uri": "https://localhost:8080/"
        },
        "id": "5MLOKOSbKzGu",
        "outputId": "fa3ffe26-5f49-432d-8a88-47e0e3dc58ad"
      },
      "source": [
        "print(len(val_sequences))\n",
        "print(val_padded.shape)"
      ],
      "execution_count": null,
      "outputs": [
        {
          "output_type": "stream",
          "name": "stdout",
          "text": [
            "90000\n",
            "(90000, 200)\n"
          ]
        }
      ]
    },
    {
      "cell_type": "code",
      "metadata": {
        "id": "yX6WzKBsIZah"
      },
      "source": [
        "# import csv"
      ],
      "execution_count": null,
      "outputs": []
    },
    {
      "cell_type": "code",
      "metadata": {
        "id": "71u4abzoctES"
      },
      "source": [
        "# # open file for writing, \"w\" is writing\n",
        "# w = csv.writer(open(\"msproj/Clean_data3_WI.csv\", \"w\"))\n",
        "\n",
        "# # loop over dictionary keys and values\n",
        "# for key, val in dict(list(word_index.items())).items():\n",
        "\n",
        "#     # write every key and value to file\n",
        "#     w.writerow([key, val])"
      ],
      "execution_count": null,
      "outputs": []
    },
    {
      "cell_type": "code",
      "metadata": {
        "id": "FQnfAz8pIx7w",
        "colab": {
          "base_uri": "https://localhost:8080/"
        },
        "outputId": "7c094c57-0c73-4e41-96bc-e3d6a6efb414"
      },
      "source": [
        "print(training_sequences[10])"
      ],
      "execution_count": null,
      "outputs": [
        {
          "output_type": "stream",
          "name": "stdout",
          "text": [
            "[11, 1656, 2124, 365, 274, 164, 5195, 1656, 66]\n"
          ]
        }
      ]
    },
    {
      "cell_type": "code",
      "metadata": {
        "colab": {
          "base_uri": "https://localhost:8080/"
        },
        "id": "QD0deor1JHve",
        "outputId": "516a166d-e5ea-45ff-d7e5-ab6155b6406d"
      },
      "source": [
        "for number in range(5):\n",
        "    print(len(training_sequences[number]))\n",
        "    print(len(training_padded[number]))"
      ],
      "execution_count": null,
      "outputs": [
        {
          "output_type": "stream",
          "name": "stdout",
          "text": [
            "6\n",
            "200\n",
            "13\n",
            "200\n",
            "104\n",
            "200\n",
            "318\n",
            "200\n",
            "38\n",
            "200\n"
          ]
        }
      ]
    },
    {
      "cell_type": "code",
      "metadata": {
        "id": "cGh2JDUtJJkL",
        "colab": {
          "base_uri": "https://localhost:8080/"
        },
        "outputId": "27fbcd8d-c341-46d7-8eca-1222afac39cf"
      },
      "source": [
        "print(training_sequences[10])"
      ],
      "execution_count": null,
      "outputs": [
        {
          "output_type": "stream",
          "name": "stdout",
          "text": [
            "[11, 1656, 2124, 365, 274, 164, 5195, 1656, 66]\n"
          ]
        }
      ]
    },
    {
      "cell_type": "code",
      "metadata": {
        "colab": {
          "base_uri": "https://localhost:8080/"
        },
        "id": "n1ES1HP8JRmU",
        "outputId": "868cf294-1480-4a98-8fd2-4e8560225eda"
      },
      "source": [
        "print(training_padded[10])"
      ],
      "execution_count": null,
      "outputs": [
        {
          "output_type": "stream",
          "name": "stdout",
          "text": [
            "[  11 1656 2124  365  274  164 5195 1656   66    0    0    0    0    0\n",
            "    0    0    0    0    0    0    0    0    0    0    0    0    0    0\n",
            "    0    0    0    0    0    0    0    0    0    0    0    0    0    0\n",
            "    0    0    0    0    0    0    0    0    0    0    0    0    0    0\n",
            "    0    0    0    0    0    0    0    0    0    0    0    0    0    0\n",
            "    0    0    0    0    0    0    0    0    0    0    0    0    0    0\n",
            "    0    0    0    0    0    0    0    0    0    0    0    0    0    0\n",
            "    0    0    0    0    0    0    0    0    0    0    0    0    0    0\n",
            "    0    0    0    0    0    0    0    0    0    0    0    0    0    0\n",
            "    0    0    0    0    0    0    0    0    0    0    0    0    0    0\n",
            "    0    0    0    0    0    0    0    0    0    0    0    0    0    0\n",
            "    0    0    0    0    0    0    0    0    0    0    0    0    0    0\n",
            "    0    0    0    0    0    0    0    0    0    0    0    0    0    0\n",
            "    0    0    0    0    0    0    0    0    0    0    0    0    0    0\n",
            "    0    0    0    0]\n"
          ]
        }
      ]
    },
    {
      "cell_type": "code",
      "metadata": {
        "id": "JdB_w2yPJqHi",
        "colab": {
          "base_uri": "https://localhost:8080/"
        },
        "outputId": "56255fc3-bcb2-4226-af16-e0b5baa2789c"
      },
      "source": [
        "print(training_sequences[0])"
      ],
      "execution_count": null,
      "outputs": [
        {
          "output_type": "stream",
          "name": "stdout",
          "text": [
            "[41, 1056, 41, 1056, 1463, 216]\n"
          ]
        }
      ]
    },
    {
      "cell_type": "code",
      "metadata": {
        "colab": {
          "base_uri": "https://localhost:8080/"
        },
        "id": "SMJE21EXJqD9",
        "outputId": "fa562846-6a06-4837-cae5-2acbfbd59635"
      },
      "source": [
        "print(training_padded[0])"
      ],
      "execution_count": null,
      "outputs": [
        {
          "output_type": "stream",
          "name": "stdout",
          "text": [
            "[  41 1056   41 1056 1463  216    0    0    0    0    0    0    0    0\n",
            "    0    0    0    0    0    0    0    0    0    0    0    0    0    0\n",
            "    0    0    0    0    0    0    0    0    0    0    0    0    0    0\n",
            "    0    0    0    0    0    0    0    0    0    0    0    0    0    0\n",
            "    0    0    0    0    0    0    0    0    0    0    0    0    0    0\n",
            "    0    0    0    0    0    0    0    0    0    0    0    0    0    0\n",
            "    0    0    0    0    0    0    0    0    0    0    0    0    0    0\n",
            "    0    0    0    0    0    0    0    0    0    0    0    0    0    0\n",
            "    0    0    0    0    0    0    0    0    0    0    0    0    0    0\n",
            "    0    0    0    0    0    0    0    0    0    0    0    0    0    0\n",
            "    0    0    0    0    0    0    0    0    0    0    0    0    0    0\n",
            "    0    0    0    0    0    0    0    0    0    0    0    0    0    0\n",
            "    0    0    0    0    0    0    0    0    0    0    0    0    0    0\n",
            "    0    0    0    0    0    0    0    0    0    0    0    0    0    0\n",
            "    0    0    0    0]\n"
          ]
        }
      ]
    },
    {
      "cell_type": "code",
      "metadata": {
        "id": "ulW7K1lKHaaj"
      },
      "source": [
        "training_padded = np.array(training_padded)\n",
        "train_labels = np.array(train_labels)\n",
        "val_padded = np.array(val_padded)\n",
        "val_labels = np.array(val_labels)"
      ],
      "execution_count": null,
      "outputs": []
    },
    {
      "cell_type": "code",
      "metadata": {
        "id": "OC486m-pIqtJ",
        "colab": {
          "base_uri": "https://localhost:8080/"
        },
        "outputId": "d61f4119-c785-4344-ef61-afb469cc68bd"
      },
      "source": [
        "print(train_labels[0])\n",
        "print(train_labels[1])\n",
        "print(train_labels[2])\n",
        "print(train_labels.shape)\n",
        "\n",
        "print(val_labels[0])\n",
        "print(val_labels[1])\n",
        "print(val_labels[2])\n",
        "print(val_labels.shape)"
      ],
      "execution_count": null,
      "outputs": [
        {
          "output_type": "stream",
          "name": "stdout",
          "text": [
            "1\n",
            "1\n",
            "0\n",
            "(360000,)\n",
            "0\n",
            "0\n",
            "1\n",
            "(90000,)\n"
          ]
        }
      ]
    },
    {
      "cell_type": "code",
      "metadata": {
        "id": "hDZirdM_MNGm",
        "colab": {
          "base_uri": "https://localhost:8080/"
        },
        "outputId": "4ed3111f-c2e4-488d-9323-5c8265330d74"
      },
      "source": [
        "reverse_word_index = dict([(value, key) for (key, value) in word_index.items()])\n",
        "\n",
        "def decode_text(text):\n",
        "    return ' '.join([reverse_word_index.get(i, '?') for i in text])\n",
        "print(decode_text(training_padded[10]))\n",
        "print('---')\n",
        "print(train_samples[10])"
      ],
      "execution_count": null,
      "outputs": [
        {
          "output_type": "stream",
          "name": "stdout",
          "text": [
            "add applicable tax section provide date satisfied applicable option ? ? ? ? ? ? ? ? ? ? ? ? ? ? ? ? ? ? ? ? ? ? ? ? ? ? ? ? ? ? ? ? ? ? ? ? ? ? ? ? ? ? ? ? ? ? ? ? ? ? ? ? ? ? ? ? ? ? ? ? ? ? ? ? ? ? ? ? ? ? ? ? ? ? ? ? ? ? ? ? ? ? ? ? ? ? ? ? ? ? ? ? ? ? ? ? ? ? ? ? ? ? ? ? ? ? ? ? ? ? ? ? ? ? ? ? ? ? ? ? ? ? ? ? ? ? ? ? ? ? ? ? ? ? ? ? ? ? ? ? ? ? ? ? ? ? ? ? ? ? ? ? ? ? ? ? ? ? ? ? ? ? ? ? ? ? ? ? ? ? ? ? ? ? ? ? ? ? ? ? ? ? ? ? ? ? ? ? ? ? ?\n",
            "---\n",
            "add applicable tax section provide date satisfied applicable option\n"
          ]
        }
      ]
    },
    {
      "cell_type": "code",
      "metadata": {
        "colab": {
          "base_uri": "https://localhost:8080/"
        },
        "id": "OHxtbFR3kscf",
        "outputId": "7dd2125e-0dbc-40ae-fc5f-f4339a1cadec"
      },
      "source": [
        "%%time\n",
        "embeddings_index = {}\n",
        "with open(\"msproj/embeddings/glove.6B.200d.txt\") as f:\n",
        "    for line in f:\n",
        "        word, coefs = line.split(maxsplit=1)\n",
        "        coefs = np.fromstring(coefs, \"f\", sep=\" \")\n",
        "        embeddings_index[word] = coefs\n",
        "\n",
        "print(\"Found %s word vectors.\" % len(embeddings_index))"
      ],
      "execution_count": null,
      "outputs": [
        {
          "output_type": "stream",
          "name": "stdout",
          "text": [
            "Found 400000 word vectors.\n",
            "CPU times: user 10.6 s, sys: 364 ms, total: 11 s\n",
            "Wall time: 11.1 s\n"
          ]
        }
      ]
    },
    {
      "cell_type": "markdown",
      "metadata": {
        "id": "6pVIgtMYzqRX"
      },
      "source": [
        "Now, let's prepare a corresponding embedding matrix that we can use in a Keras\n",
        "`Embedding` layer. It's a simple NumPy matrix where entry at index `i` is the pre-trained\n",
        "vector for the word of index `i` in our `vectorizer`'s vocabulary."
      ]
    },
    {
      "cell_type": "code",
      "metadata": {
        "id": "uE4didFAzqRY",
        "colab": {
          "base_uri": "https://localhost:8080/"
        },
        "outputId": "5decc4ad-523f-46e6-f97d-21f7e1fdeee8"
      },
      "source": [
        "num_tokens = vocab_size + 2\n",
        "embedding_dim = 200\n",
        "hits = 0\n",
        "misses = 0\n",
        "\n",
        "# Prepare embedding matrix\n",
        "embedding_matrix = np.zeros((num_tokens, embedding_dim))\n",
        "for word, i in word_index.items():\n",
        "    # print(word)\n",
        "    # print(i)\n",
        "    embedding_vector = embeddings_index.get(word)\n",
        "    if embedding_vector is not None:\n",
        "        # Words not found in embedding index will be all-zeros.\n",
        "        # This includes the representation for \"padding\" and \"OOV\"\n",
        "        embedding_matrix[i] = embedding_vector\n",
        "        hits += 1\n",
        "    else:\n",
        "        misses += 1\n",
        "print(\"Converted %d words (%d misses)\" % (hits, misses))\n",
        "p = (hits*100)/vocab_size\n",
        "print(\"Percentage of vocabulary matched: \", p)"
      ],
      "execution_count": null,
      "outputs": [
        {
          "output_type": "stream",
          "name": "stdout",
          "text": [
            "Converted 67233 words (29964 misses)\n",
            "Percentage of vocabulary matched:  69.17259969546072\n"
          ]
        }
      ]
    },
    {
      "cell_type": "markdown",
      "metadata": {
        "id": "41qm2mqqzqRY"
      },
      "source": [
        "Next, we load the pre-trained word embeddings matrix into an `Embedding` layer.\n",
        "\n",
        "Note that we set `trainable=False` so as to keep the embeddings fixed (we don't want to\n",
        "update them during training)."
      ]
    },
    {
      "cell_type": "code",
      "metadata": {
        "id": "-7g18DL9zqRZ",
        "colab": {
          "base_uri": "https://localhost:8080/"
        },
        "outputId": "a9fb64f7-7804-4488-ed08-cbfe525c40b1"
      },
      "source": [
        "%%time\n",
        "from tensorflow.keras.layers import Embedding\n",
        "from tensorflow.keras import layers\n",
        "\n",
        "embedding_layer = Embedding(\n",
        "    num_tokens,\n",
        "    embedding_dim,\n",
        "    embeddings_initializer=keras.initializers.Constant(embedding_matrix),\n",
        "    trainable=False,\n",
        ")"
      ],
      "execution_count": null,
      "outputs": [
        {
          "output_type": "stream",
          "name": "stdout",
          "text": [
            "CPU times: user 8.71 ms, sys: 149 µs, total: 8.86 ms\n",
            "Wall time: 183 ms\n"
          ]
        }
      ]
    },
    {
      "cell_type": "markdown",
      "metadata": {
        "id": "3m8hj_IuzqRZ"
      },
      "source": [
        "## Build the model\n",
        "\n"
      ]
    },
    {
      "cell_type": "code",
      "metadata": {
        "id": "OszemFWUVKKF",
        "colab": {
          "base_uri": "https://localhost:8080/"
        },
        "outputId": "edd67a73-c049-4a13-b322-cc340fff973a"
      },
      "source": [
        "# Input for variable-length sequences of integers\n",
        "int_sequences_input = keras.Input(shape=(None,), dtype=\"int64\")\n",
        "# Embed each integer in a 200-dimensional vector\n",
        "embedded_sequences = embedding_layer(int_sequences_input)\n",
        "# Add 2 bidirectional LSTMs\n",
        "x = layers.Bidirectional(layers.LSTM(64, return_sequences=True))(embedded_sequences)\n",
        "x = layers.Bidirectional(layers.LSTM(64))(x)\n",
        "# Add a classifier\n",
        "preds = layers.Dense(len(class_names), activation=\"softmax\")(x)\n",
        "model = keras.Model(int_sequences_input, preds)\n",
        "model.summary()"
      ],
      "execution_count": null,
      "outputs": [
        {
          "output_type": "stream",
          "name": "stdout",
          "text": [
            "Model: \"model\"\n",
            "_________________________________________________________________\n",
            "Layer (type)                 Output Shape              Param #   \n",
            "=================================================================\n",
            "input_1 (InputLayer)         [(None, None)]            0         \n",
            "_________________________________________________________________\n",
            "embedding (Embedding)        (None, None, 200)         19439600  \n",
            "_________________________________________________________________\n",
            "bidirectional (Bidirectional (None, None, 128)         135680    \n",
            "_________________________________________________________________\n",
            "bidirectional_1 (Bidirection (None, 128)               98816     \n",
            "_________________________________________________________________\n",
            "dense (Dense)                (None, 3)                 387       \n",
            "=================================================================\n",
            "Total params: 19,674,483\n",
            "Trainable params: 234,883\n",
            "Non-trainable params: 19,439,600\n",
            "_________________________________________________________________\n"
          ]
        }
      ]
    },
    {
      "cell_type": "markdown",
      "metadata": {
        "id": "l9_yaEXCzqRZ"
      },
      "source": [
        "## Train the model\n",
        "\n",
        "First, convert our list-of-strings data to NumPy arrays of integer indices. The arrays\n",
        "are right-padded."
      ]
    },
    {
      "cell_type": "markdown",
      "metadata": {
        "id": "t2k_Q1UmzqRa"
      },
      "source": [
        "We use categorical crossentropy as our loss since we're doing softmax classification.\n",
        "Moreover, we use `sparse_categorical_crossentropy` since our labels are integers."
      ]
    },
    {
      "cell_type": "code",
      "metadata": {
        "id": "RpUdt4jdzqRa",
        "colab": {
          "base_uri": "https://localhost:8080/"
        },
        "outputId": "5d1c0215-b530-421e-9f09-bd035d07c962"
      },
      "source": [
        "%%time\n",
        "model.compile(\n",
        "    loss=\"sparse_categorical_crossentropy\", optimizer=\"rmsprop\", metrics=[\"acc\"]\n",
        ")\n",
        "history =  model.fit(training_padded, train_labels, batch_size=128, epochs=10, validation_data=(val_padded, val_labels))"
      ],
      "execution_count": null,
      "outputs": [
        {
          "output_type": "stream",
          "name": "stdout",
          "text": [
            "Epoch 1/10\n",
            "2813/2813 [==============================] - 1479s 523ms/step - loss: 0.6374 - acc: 0.7453 - val_loss: 0.5870 - val_acc: 0.7702\n",
            "Epoch 2/10\n",
            "2813/2813 [==============================] - 1409s 501ms/step - loss: 0.5664 - acc: 0.7791 - val_loss: 0.5641 - val_acc: 0.7806\n",
            "Epoch 3/10\n",
            "2813/2813 [==============================] - 1410s 501ms/step - loss: 0.5399 - acc: 0.7911 - val_loss: 0.5607 - val_acc: 0.7827\n",
            "Epoch 4/10\n",
            "2813/2813 [==============================] - 1407s 500ms/step - loss: 0.5193 - acc: 0.7994 - val_loss: 0.5565 - val_acc: 0.7833\n",
            "Epoch 5/10\n",
            "2813/2813 [==============================] - 1407s 500ms/step - loss: 0.5004 - acc: 0.8072 - val_loss: 0.5585 - val_acc: 0.7845\n",
            "Epoch 6/10\n",
            "2813/2813 [==============================] - 1407s 500ms/step - loss: 0.4816 - acc: 0.8161 - val_loss: 0.5672 - val_acc: 0.7830\n",
            "Epoch 7/10\n",
            "2813/2813 [==============================] - 1408s 501ms/step - loss: 0.4631 - acc: 0.8227 - val_loss: 0.5715 - val_acc: 0.7810\n",
            "Epoch 8/10\n",
            "2813/2813 [==============================] - 1411s 501ms/step - loss: 0.4447 - acc: 0.8306 - val_loss: 0.5896 - val_acc: 0.7784\n",
            "Epoch 9/10\n",
            "2813/2813 [==============================] - 1407s 500ms/step - loss: 0.4260 - acc: 0.8384 - val_loss: 0.6074 - val_acc: 0.7750\n",
            "Epoch 10/10\n",
            "2813/2813 [==============================] - 1409s 501ms/step - loss: 0.4089 - acc: 0.8458 - val_loss: 0.6142 - val_acc: 0.7737\n",
            "CPU times: user 21h 25min 33s, sys: 5h 7min 34s, total: 1d 2h 33min 7s\n",
            "Wall time: 3h 55min 53s\n"
          ]
        }
      ]
    },
    {
      "cell_type": "code",
      "metadata": {
        "id": "6p6O1Qp_uc2n",
        "colab": {
          "base_uri": "https://localhost:8080/"
        },
        "outputId": "8f01df38-e201-4b46-a5e7-3e8bc9ae2ec8"
      },
      "source": [
        "# evaluate model\n",
        "yhat = model.predict(val_padded)\n",
        "score = roc_auc_score(val_labels, yhat,multi_class='ovr')\n",
        "print('ROC AUC: %.3f' % score)"
      ],
      "execution_count": null,
      "outputs": [
        {
          "output_type": "stream",
          "name": "stdout",
          "text": [
            "ROC AUC: 0.867\n"
          ]
        }
      ]
    },
    {
      "cell_type": "code",
      "metadata": {
        "id": "ozOlF2FEuczy",
        "colab": {
          "base_uri": "https://localhost:8080/",
          "height": 541
        },
        "outputId": "9ac7f8b3-5940-4c23-c7a1-923a1ea7ea97"
      },
      "source": [
        "import matplotlib.pyplot as plt\n",
        "\n",
        "def plot_graphs(history, string):\n",
        "  plt.plot(history.history[string])\n",
        "  plt.plot(history.history['val_'+string])\n",
        "  plt.xlabel(\"Epochs\")\n",
        "  plt.ylabel(string)\n",
        "  plt.legend([string, 'val_'+string])\n",
        "  plt.show()\n",
        "  \n",
        "plot_graphs(history, \"acc\")\n",
        "plot_graphs(history, \"loss\")"
      ],
      "execution_count": null,
      "outputs": [
        {
          "output_type": "display_data",
          "data": {
            "text/plain": [
              "<Figure size 432x288 with 1 Axes>"
            ],
            "image/png": "[encoded data removed]"
          },
          "metadata": {
            "needs_background": "light"
          }
        },
        {
          "output_type": "display_data",
          "data": {
            "text/plain": [
              "<Figure size 432x288 with 1 Axes>"
            ],
            "image/png": "[encoded data removed]"
          },
          "metadata": {
            "needs_background": "light"
          }
        }
      ]
    },
    {
      "cell_type": "code",
      "metadata": {
        "id": "fxe9D8jeucw5",
        "colab": {
          "base_uri": "https://localhost:8080/"
        },
        "outputId": "fd911005-ef16-47c2-b4c5-405a24c0ae85"
      },
      "source": [
        "reverse_word_index = dict([(value, key) for (key, value) in word_index.items()])\n",
        "\n",
        "def decode_sentence(text):\n",
        "    return ' '.join([reverse_word_index.get(i, '?') for i in text])\n",
        "\n",
        "print(decode_sentence(training_padded[2]))\n",
        "print(train_samples[2])\n",
        "print(train_labels[2])"
      ],
      "execution_count": null,
      "outputs": [
        {
          "output_type": "stream",
          "name": "stdout",
          "text": [
            "inbox sum unread problem count equal unread count language happened time able figure exactly circumstance occurs case seems happening ruby track example unread item hamming unread item anagram one would think mean unread item total ruby counter say click hamming item one one hamming ruby counter decrease also click two anagram item decrease counter well left one anagram item unread zero ruby item unread expect ruby counter instead right screenshot current inbox stand http img may unread count ruby track synced going read submission leave last one submission unread help diagnose issue way see difference square submission see difference square since submitted solution problem ? ? ? ? ? ? ? ? ? ? ? ? ? ? ? ? ? ? ? ? ? ? ? ? ? ? ? ? ? ? ? ? ? ? ? ? ? ? ? ? ? ? ? ? ? ? ? ? ? ? ? ? ? ? ? ? ? ? ? ? ? ? ? ? ? ? ? ? ? ? ? ? ? ? ? ? ? ? ? ? ? ? ? ? ? ? ? ? ? ? ? ? ? ? ? ?\n",
            "inbox sum unread problem count equal unread count language happened time able figure exactly circumstance occurs case seems happening ruby track example unread item hamming unread item anagram one would think mean unread item total ruby counter say click hamming item one one hamming ruby counter decrease also click two anagram item decrease counter well left one anagram item unread zero ruby item unread expect ruby counter instead right screenshot current inbox stand http img may unread count ruby track synced going read submission leave last one submission unread help diagnose issue way see difference square submission see difference square since submitted solution problem\n",
            "0\n"
          ]
        }
      ]
    },
    {
      "cell_type": "code",
      "metadata": {
        "id": "bbR7K5RpmWHj",
        "colab": {
          "base_uri": "https://localhost:8080/"
        },
        "outputId": "97955cc4-d1a0-4b3a-f566-a1a1be2bc196"
      },
      "source": [
        "txt = [\"Why binary_crossentropy and categorical_crossentropy give different performances for the same problem\"]\n",
        "seq = tokenizer.texts_to_sequences(txt)\n",
        "padded = pad_sequences(seq, maxlen=max_length,padding=padding_type, truncating=trunc_type)\n",
        "pred = model.predict(padded)\n",
        "labels = ['bug', 'feature', 'question']\n",
        "print(pred, labels[np.argmax(pred)])"
      ],
      "execution_count": null,
      "outputs": [
        {
          "output_type": "stream",
          "name": "stdout",
          "text": [
            "[[0.16095127 0.37658396 0.46246472]] question\n"
          ]
        }
      ]
    },
    {
      "cell_type": "code",
      "metadata": {
        "id": "14jffF0fiU1U"
      },
      "source": [],
      "execution_count": null,
      "outputs": []
    },
    {
      "cell_type": "code",
      "metadata": {
        "id": "2Fa3Az_w4ZVN"
      },
      "source": [
        "def Convert(stng):\n",
        "  li = []\n",
        "  li.append(stng)\n",
        "  return li"
      ],
      "execution_count": null,
      "outputs": []
    },
    {
      "cell_type": "code",
      "metadata": {
        "id": "yiOUhL0GiVXn"
      },
      "source": [
        "txt = \"unable mine rock sark starting today hit enter.\"\n",
        "\n",
        "def pred_it(txt):\n",
        "  seq = tokenizer.texts_to_sequences(txt)\n",
        "  padded = pad_sequences(seq, maxlen=max_length,padding=padding_type, truncating=trunc_type)\n",
        "  pred = model.predict(padded)\n",
        "  labels = [0, 1, 2]\n",
        "  return labels[np.argmax(pred)]  "
      ],
      "execution_count": null,
      "outputs": []
    },
    {
      "cell_type": "code",
      "metadata": {
        "id": "f-aGtwBrzRvg",
        "colab": {
          "base_uri": "https://localhost:8080/"
        },
        "outputId": "dfa51b60-74e7-4884-c88a-cb729df97b72"
      },
      "source": [
        "print(Convert(txt))\n",
        "pred_it(Convert(txt))"
      ],
      "execution_count": null,
      "outputs": [
        {
          "output_type": "stream",
          "name": "stdout",
          "text": [
            "['unable mine rock sark starting today hit enter.']\n"
          ]
        },
        {
          "output_type": "execute_result",
          "data": {
            "text/plain": [
              "0"
            ]
          },
          "metadata": {},
          "execution_count": 36
        }
      ]
    },
    {
      "cell_type": "markdown",
      "metadata": {
        "id": "H2eokmnJzqRa"
      },
      "source": [
        "## Export an end-to-end model\n",
        "\n",
        "Now, we may want to export a `Model` object that takes as input a string of arbitrary\n",
        "length, rather than a sequence of indices. It would make the model much more portable,\n",
        "since you wouldn't have to worry about the input preprocessing pipeline.\n",
        "\n",
        "Our `vectorizer` is actually a Keras layer, so it's simple:"
      ]
    },
    {
      "cell_type": "code",
      "metadata": {
        "id": "tb3IhygDuzHR",
        "colab": {
          "base_uri": "https://localhost:8080/"
        },
        "outputId": "c7c17416-3695-4d48-ccdf-4cd098bdada2"
      },
      "source": [
        "from keras.models import model_from_json\n",
        "# serialize model to JSON\n",
        "model_json = model.to_json()\n",
        "with open(\"msproj/Classify_GloVe_WordEmb_BiLSTM.json\", \"w\") as json_file:\n",
        "    json_file.write(model_json)\n",
        "# serialize weights to HDF5\n",
        "model.save_weights(\"msproj/Classify_GloVe_WordEmb_BiLSTM.h5\")\n",
        "print(\"Saved model to disk\")\n",
        " \n",
        "# later...\n",
        " "
      ],
      "execution_count": null,
      "outputs": [
        {
          "output_type": "stream",
          "name": "stdout",
          "text": [
            "Saved model to disk\n"
          ]
        }
      ]
    },
    {
      "cell_type": "code",
      "metadata": {
        "id": "h4oUzNpNe_h2",
        "colab": {
          "base_uri": "https://localhost:8080/"
        },
        "outputId": "f1b4c9e2-bff6-45ef-ffbe-3b96731329f7"
      },
      "source": [
        "# # load json and create model\n",
        "# json_file = open('msproj/Classify_GloVe_WordEmb_BiLSTM.json', 'r')\n",
        "# loaded_model_json = json_file.read()\n",
        "# json_file.close()\n",
        "# loaded_model = model_from_json(loaded_model_json)\n",
        "# # load weights into new model\n",
        "# loaded_model.load_weights(\"msproj/Classify_GloVe_WordEmb_BiLSTM.h5\")\n",
        "# print(\"Loaded model from disk\")"
      ],
      "execution_count": null,
      "outputs": [
        {
          "output_type": "stream",
          "name": "stdout",
          "text": [
            "Loaded model from disk\n"
          ]
        }
      ]
    },
    {
      "cell_type": "code",
      "metadata": {
        "id": "jQxRaYC2fE-L",
        "colab": {
          "base_uri": "https://localhost:8080/"
        },
        "outputId": "fb52498c-c0e4-4eea-b2b5-a53e0363a320"
      },
      "source": [
        "tf.keras.utils.plot_model(model)"
      ],
      "execution_count": null,
      "outputs": [
        {
          "output_type": "stream",
          "name": "stdout",
          "text": [
            "('You must install pydot (`pip install pydot`) and install graphviz (see instructions at https://graphviz.gitlab.io/download/) ', 'for plot_model/model_to_dot to work.')\n"
          ]
        }
      ]
    },
    {
      "cell_type": "code",
      "metadata": {
        "id": "4cfUM62tiili"
      },
      "source": [],
      "execution_count": null,
      "outputs": []
    },
    {
      "cell_type": "markdown",
      "metadata": {
        "id": "DwxAOmEhhHDJ"
      },
      "source": [
        "## Export an end-to-end model\n",
        "\n",
        "Now, we may want to export a `Model` object that takes as input a string of arbitrary\n",
        "length, rather than a sequence of indices. It would make the model much more portable,\n",
        "since you wouldn't have to worry about the input preprocessing pipeline.\n",
        "\n",
        "Our `vectorizer` is actually a Keras layer, so it's simple:"
      ]
    },
    {
      "cell_type": "code",
      "metadata": {
        "id": "zdCPTcomjQWz"
      },
      "source": [],
      "execution_count": null,
      "outputs": []
    },
    {
      "cell_type": "code",
      "metadata": {
        "id": "2TgPrFEwjQ7J",
        "colab": {
          "base_uri": "https://localhost:8080/"
        },
        "outputId": "0179c760-6b93-4c2b-93a4-3dd35884005a"
      },
      "source": [
        "from keras.models import model_from_json\n",
        "# serialize model to JSON\n",
        "model_json = model.to_json()\n",
        "with open(\"msproj/Classify_GloVe_WordEmb_BiLSTM.json\", \"w\") as json_file:\n",
        "    json_file.write(model_json)\n",
        "# serialize weights to HDF5\n",
        "model.save_weights(\"msproj/Classify_GloVe_WordEmb_BiLSTM.h5\")\n",
        "print(\"Saved model to disk\")\n",
        " \n",
        "# later...\n",
        " "
      ],
      "execution_count": null,
      "outputs": [
        {
          "output_type": "stream",
          "name": "stdout",
          "text": [
            "Saved model to disk\n"
          ]
        }
      ]
    },
    {
      "cell_type": "code",
      "metadata": {
        "id": "AVVeP9iijQ7J"
      },
      "source": [
        "# # load json and create model\n",
        "# json_file = open('msproj/Classify_GloVe_WordEmb_BiLSTM.json', 'r')\n",
        "# loaded_model_json = json_file.read()\n",
        "# json_file.close()\n",
        "# loaded_model = model_from_json(loaded_model_json)\n",
        "# # load weights into new model\n",
        "# loaded_model.load_weights(\"msproj/Classify_GloVe_WordEmb_BiLSTM.h5\")\n",
        "# print(\"Loaded model from disk\")"
      ],
      "execution_count": null,
      "outputs": []
    },
    {
      "cell_type": "code",
      "metadata": {
        "id": "ne4eIaqD19m3",
        "colab": {
          "base_uri": "https://localhost:8080/",
          "height": 419
        },
        "outputId": "2283ec32-f78d-4d80-dff2-1b1d4973baf7"
      },
      "source": [
        "dataset_test = pd.read_csv('msproj/clean_test4.csv')\n",
        "dataset_test['pred'] = 3\n",
        "dataset_test"
      ],
      "execution_count": null,
      "outputs": [
        {
          "output_type": "execute_result",
          "data": {
            "text/plain": [
              "       Unnamed: 0                                               text  label  \\\n",
              "0               0  config question path specific environment vari...      0   \n",
              "1               1           crash indien vol simulator crash hij vol      0   \n",
              "2               2  unable mine rock sark starting today hit enter...      0   \n",
              "3               3  whitelists processed create following rule ord...      0   \n",
              "4               4  add ctx menu ida free ida free associated dll ...      0   \n",
              "...           ...                                                ...    ...   \n",
              "29995       29995  closing project running simulation stop simula...      0   \n",
              "29996       29996  missing table description iseries driver table...      0   \n",
              "29997       29997  case notification shown new message always cha...      0   \n",
              "29998       29998  error syncing see following error log error ja...      0   \n",
              "29999       29999  portable open system pharmacology version hell...      0   \n",
              "\n",
              "       pred  \n",
              "0         3  \n",
              "1         3  \n",
              "2         3  \n",
              "3         3  \n",
              "4         3  \n",
              "...     ...  \n",
              "29995     3  \n",
              "29996     3  \n",
              "29997     3  \n",
              "29998     3  \n",
              "29999     3  \n",
              "\n",
              "[30000 rows x 4 columns]"
            ],
            "text/html": [
              "<div>\n",
              "<style scoped>\n",
              "    .dataframe tbody tr th:only-of-type {\n",
              "        vertical-align: middle;\n",
              "    }\n",
              "\n",
              "    .dataframe tbody tr th {\n",
              "        vertical-align: top;\n",
              "    }\n",
              "\n",
              "    .dataframe thead th {\n",
              "        text-align: right;\n",
              "    }\n",
              "</style>\n",
              "<table border=\"1\" class=\"dataframe\">\n",
              "  <thead>\n",
              "    <tr style=\"text-align: right;\">\n",
              "      <th></th>\n",
              "      <th>Unnamed: 0</th>\n",
              "      <th>text</th>\n",
              "      <th>label</th>\n",
              "      <th>pred</th>\n",
              "    </tr>\n",
              "  </thead>\n",
              "  <tbody>\n",
              "    <tr>\n",
              "      <th>0</th>\n",
              "      <td>0</td>\n",
              "      <td>config question path specific environment vari...</td>\n",
              "      <td>0</td>\n",
              "      <td>3</td>\n",
              "    </tr>\n",
              "    <tr>\n",
              "      <th>1</th>\n",
              "      <td>1</td>\n",
              "      <td>crash indien vol simulator crash hij vol</td>\n",
              "      <td>0</td>\n",
              "      <td>3</td>\n",
              "    </tr>\n",
              "    <tr>\n",
              "      <th>2</th>\n",
              "      <td>2</td>\n",
              "      <td>unable mine rock sark starting today hit enter...</td>\n",
              "      <td>0</td>\n",
              "      <td>3</td>\n",
              "    </tr>\n",
              "    <tr>\n",
              "      <th>3</th>\n",
              "      <td>3</td>\n",
              "      <td>whitelists processed create following rule ord...</td>\n",
              "      <td>0</td>\n",
              "      <td>3</td>\n",
              "    </tr>\n",
              "    <tr>\n",
              "      <th>4</th>\n",
              "      <td>4</td>\n",
              "      <td>add ctx menu ida free ida free associated dll ...</td>\n",
              "      <td>0</td>\n",
              "      <td>3</td>\n",
              "    </tr>\n",
              "    <tr>\n",
              "      <th>...</th>\n",
              "      <td>...</td>\n",
              "      <td>...</td>\n",
              "      <td>...</td>\n",
              "      <td>...</td>\n",
              "    </tr>\n",
              "    <tr>\n",
              "      <th>29995</th>\n",
              "      <td>29995</td>\n",
              "      <td>closing project running simulation stop simula...</td>\n",
              "      <td>0</td>\n",
              "      <td>3</td>\n",
              "    </tr>\n",
              "    <tr>\n",
              "      <th>29996</th>\n",
              "      <td>29996</td>\n",
              "      <td>missing table description iseries driver table...</td>\n",
              "      <td>0</td>\n",
              "      <td>3</td>\n",
              "    </tr>\n",
              "    <tr>\n",
              "      <th>29997</th>\n",
              "      <td>29997</td>\n",
              "      <td>case notification shown new message always cha...</td>\n",
              "      <td>0</td>\n",
              "      <td>3</td>\n",
              "    </tr>\n",
              "    <tr>\n",
              "      <th>29998</th>\n",
              "      <td>29998</td>\n",
              "      <td>error syncing see following error log error ja...</td>\n",
              "      <td>0</td>\n",
              "      <td>3</td>\n",
              "    </tr>\n",
              "    <tr>\n",
              "      <th>29999</th>\n",
              "      <td>29999</td>\n",
              "      <td>portable open system pharmacology version hell...</td>\n",
              "      <td>0</td>\n",
              "      <td>3</td>\n",
              "    </tr>\n",
              "  </tbody>\n",
              "</table>\n",
              "<p>30000 rows × 4 columns</p>\n",
              "</div>"
            ]
          },
          "metadata": {},
          "execution_count": 42
        }
      ]
    },
    {
      "cell_type": "code",
      "metadata": {
        "id": "iQvrkoTjv-Q9",
        "colab": {
          "base_uri": "https://localhost:8080/"
        },
        "outputId": "f9056d40-c1b2-490d-aca4-dc3a0cb2dc59"
      },
      "source": [
        "dst = dataset_test['text'].head(4)\n",
        "dst"
      ],
      "execution_count": null,
      "outputs": [
        {
          "output_type": "execute_result",
          "data": {
            "text/plain": [
              "0    config question path specific environment vari...\n",
              "1             crash indien vol simulator crash hij vol\n",
              "2    unable mine rock sark starting today hit enter...\n",
              "3    whitelists processed create following rule ord...\n",
              "Name: text, dtype: object"
            ]
          },
          "metadata": {},
          "execution_count": 43
        }
      ]
    },
    {
      "cell_type": "code",
      "metadata": {
        "id": "MhCyKC7s2Dlg",
        "colab": {
          "base_uri": "https://localhost:8080/"
        },
        "outputId": "233c7173-a9d1-405d-e5fe-5556cb5c18a2"
      },
      "source": [
        "%%time\n",
        "for item in dst:\n",
        "  print(pred_it(Convert(item)))"
      ],
      "execution_count": null,
      "outputs": [
        {
          "output_type": "stream",
          "name": "stdout",
          "text": [
            "2\n",
            "0\n",
            "0\n",
            "0\n",
            "CPU times: user 627 ms, sys: 73 ms, total: 700 ms\n",
            "Wall time: 294 ms\n"
          ]
        }
      ]
    },
    {
      "cell_type": "code",
      "metadata": {
        "id": "SkgEqT5E7XQ0"
      },
      "source": [
        "dataset_test['pred']=dataset_test['text'].apply(lambda x: pred_it(Convert(x)))"
      ],
      "execution_count": null,
      "outputs": []
    },
    {
      "cell_type": "code",
      "metadata": {
        "id": "r8B2J7zVFX2w",
        "colab": {
          "base_uri": "https://localhost:8080/"
        },
        "outputId": "86c9a6f6-8888-4cf5-ae1b-bfee1fdf4ff7"
      },
      "source": [
        "dataset_test['pred'].value_counts()"
      ],
      "execution_count": null,
      "outputs": [
        {
          "output_type": "execute_result",
          "data": {
            "text/plain": [
              "1    14174\n",
              "0    14130\n",
              "2     1696\n",
              "Name: pred, dtype: int64"
            ]
          },
          "metadata": {},
          "execution_count": 46
        }
      ]
    },
    {
      "cell_type": "code",
      "metadata": {
        "id": "FC5ysaj-BTkn"
      },
      "source": [
        "from sklearn.metrics import classification_report"
      ],
      "execution_count": null,
      "outputs": []
    },
    {
      "cell_type": "code",
      "metadata": {
        "id": "nzGrF_SsAmj6",
        "colab": {
          "base_uri": "https://localhost:8080/"
        },
        "outputId": "5bd227fe-fa6a-466f-9b35-c26a2d5c6bb9"
      },
      "source": [
        "print(classification_report(dataset_test['label'], dataset_test['pred'] ))"
      ],
      "execution_count": null,
      "outputs": [
        {
          "output_type": "stream",
          "name": "stdout",
          "text": [
            "              precision    recall  f1-score   support\n",
            "\n",
            "           0       1.00      0.47      0.64     30000\n",
            "           1       0.00      0.00      0.00         0\n",
            "           2       0.00      0.00      0.00         0\n",
            "\n",
            "    accuracy                           0.47     30000\n",
            "   macro avg       0.33      0.16      0.21     30000\n",
            "weighted avg       1.00      0.47      0.64     30000\n",
            "\n"
          ]
        }
      ]
    },
    {
      "cell_type": "code",
      "metadata": {
        "id": "EjVFtpZuCFp5",
        "colab": {
          "base_uri": "https://localhost:8080/"
        },
        "outputId": "56fcc168-14fe-4fae-dce5-96143b562632"
      },
      "source": [
        "from sklearn.metrics import confusion_matrix\n",
        "confusion_matrix(dataset_test['label'], dataset_test['pred'])"
      ],
      "execution_count": null,
      "outputs": [
        {
          "output_type": "execute_result",
          "data": {
            "text/plain": [
              "array([[14130, 14174,  1696],\n",
              "       [    0,     0,     0],\n",
              "       [    0,     0,     0]])"
            ]
          },
          "metadata": {},
          "execution_count": 49
        }
      ]
    }
  ]
}