{
  "nbformat": 4,
  "nbformat_minor": 0,
  "metadata": {
    "colab": {
      "name": "Classify_GloVe_WordEmb.ipynb",
      "provenance": [],
      "collapsed_sections": []
    },
    "kernelspec": {
      "name": "python3",
      "display_name": "Python 3"
    },
    "language_info": {
      "name": "python"
    }
  },
  "cells": [
    {
      "cell_type": "markdown",
      "metadata": {
        "id": "3k4bwpODg3Cd"
      },
      "source": [
        "#200 dim\n",
        "#200 seq length\n",
        "#10 epoch\n",
        "#CNN\n",
        "# Glove WE"
      ]
    },
    {
      "cell_type": "code",
      "metadata": {
        "colab": {
          "base_uri": "https://localhost:8080/"
        },
        "id": "wKAMl99gjH2p",
        "outputId": "9e314cac-32fe-40b6-b598-7afeaa96e4a3"
      },
      "source": [
        "import pandas as pd\n",
        "import numpy as np\n",
        "from sklearn.model_selection import train_test_split\n",
        "from sklearn.metrics import roc_auc_score\n",
        "from collections import Counter\n",
        "from keras.models import model_from_json\n",
        "import tensorflow as tf\n",
        "from tensorflow.keras.preprocessing.text import Tokenizer\n",
        "from tensorflow.keras.preprocessing.sequence import pad_sequences\n",
        "from tensorflow import keras"
      ],
      "execution_count": null,
      "outputs": [
        {
          "output_type": "stream",
          "name": "stderr",
          "text": [
            "/home/mjokhio12/venv/lib/python3.6/site-packages/pandas/compat/__init__.py:120: UserWarning: Could not import the lzma module. Your installed Python is incomplete. Attempting to use lzma compression will result in a RuntimeError.\n",
            "  warnings.warn(msg)\n"
          ]
        }
      ]
    },
    {
      "cell_type": "code",
      "metadata": {
        "id": "k4-6JhxLEjyr"
      },
      "source": [
        "import warnings\n",
        "warnings.filterwarnings('ignore')"
      ],
      "execution_count": null,
      "outputs": []
    },
    {
      "cell_type": "code",
      "metadata": {
        "id": "BOqY_oARNaMl"
      },
      "source": [
        "data = pd.read_csv('msproj/clean_train4.csv')"
      ],
      "execution_count": null,
      "outputs": []
    },
    {
      "cell_type": "code",
      "metadata": {
        "id": "vFF0c5VKNs0I"
      },
      "source": [
        "class_names = ['Bug', 'Feature', 'Question']"
      ],
      "execution_count": null,
      "outputs": []
    },
    {
      "cell_type": "code",
      "metadata": {
        "id": "Uw034ZwHlc3X",
        "colab": {
          "base_uri": "https://localhost:8080/"
        },
        "outputId": "252f3da5-69a9-4666-8309-c51c055ef950"
      },
      "source": [
        "%%time\n",
        "train, test = train_test_split(data, test_size=0.2, random_state=42, shuffle=True)\n",
        "\n",
        "train_samples = []   \n",
        "train_labels = []\n",
        "val_samples = []\n",
        "val_labels = []\n",
        "\n",
        "for index, row in train.iterrows():\n",
        "    train_samples.append(row['text'])\n",
        "    train_labels.append(row['label'])\n",
        "    # print(row['text'], row['target'])\n",
        "\n",
        "for index, row in test.iterrows():\n",
        "    val_samples.append(row['text'])\n",
        "    val_labels.append(row['label'])\n",
        "    # print(row['text'], row['target'])"
      ],
      "execution_count": null,
      "outputs": [
        {
          "output_type": "stream",
          "name": "stdout",
          "text": [
            "CPU times: user 33.6 s, sys: 11.9 ms, total: 33.6 s\n",
            "Wall time: 33.8 s\n"
          ]
        }
      ]
    },
    {
      "cell_type": "code",
      "metadata": {
        "colab": {
          "base_uri": "https://localhost:8080/"
        },
        "id": "TwGvG-QtnE7u",
        "outputId": "fdfffc86-dea5-4545-f1c7-87d5d34c97ac"
      },
      "source": [
        "print(len(train_samples))\n",
        "print(len(val_labels))"
      ],
      "execution_count": null,
      "outputs": [
        {
          "output_type": "stream",
          "name": "stdout",
          "text": [
            "360000\n",
            "90000\n"
          ]
        }
      ]
    },
    {
      "cell_type": "code",
      "metadata": {
        "id": "dsIm8wGwuJxw"
      },
      "source": [
        "# How many unique words have this text\n",
        "def counter_word(text):\n",
        "    count = Counter()\n",
        "    for i in text.values:\n",
        "        for word in i.split():\n",
        "            count[word] += 1\n",
        "    return count"
      ],
      "execution_count": null,
      "outputs": []
    },
    {
      "cell_type": "code",
      "metadata": {
        "colab": {
          "base_uri": "https://localhost:8080/"
        },
        "id": "jfRx1FVz0IOj",
        "outputId": "461a7f04-fe9e-47ee-82b8-562df0223d5c"
      },
      "source": [
        "text_values = train[\"text\"]\n",
        "counter = counter_word(text_values)\n",
        "len(counter)"
      ],
      "execution_count": null,
      "outputs": [
        {
          "output_type": "execute_result",
          "data": {
            "text/plain": [
              "97196"
            ]
          },
          "metadata": {},
          "execution_count": 8
        }
      ]
    },
    {
      "cell_type": "code",
      "metadata": {
        "id": "ecHvKkdFG_xM"
      },
      "source": [
        "vocab_size = len(counter)\n",
        "embedding_dim = 200\n",
        "max_length = 200\n",
        "trunc_type='post'\n",
        "padding_type='post'\n",
        "oov_tok = \"<OOV>\""
      ],
      "execution_count": null,
      "outputs": []
    },
    {
      "cell_type": "code",
      "metadata": {
        "id": "Apglt-IXHQ9j",
        "colab": {
          "base_uri": "https://localhost:8080/"
        },
        "outputId": "002a9c04-af45-4694-9419-770dd89750dc"
      },
      "source": [
        "%%time\n",
        "tokenizer = Tokenizer(num_words=vocab_size, oov_token=oov_tok)\n",
        "tokenizer.fit_on_texts(train_samples)\n",
        "\n",
        "word_index = tokenizer.word_index\n",
        "\n",
        "training_sequences = tokenizer.texts_to_sequences(train_samples)\n",
        "training_padded = pad_sequences(training_sequences, maxlen=max_length, padding=padding_type, truncating=trunc_type)\n",
        "\n",
        "val_sequences = tokenizer.texts_to_sequences(val_samples)\n",
        "val_padded = pad_sequences(val_sequences, maxlen=max_length, padding=padding_type, truncating=trunc_type)"
      ],
      "execution_count": null,
      "outputs": [
        {
          "output_type": "stream",
          "name": "stdout",
          "text": [
            "CPU times: user 26.5 s, sys: 191 ms, total: 26.7 s\n",
            "Wall time: 26.7 s\n"
          ]
        }
      ]
    },
    {
      "cell_type": "code",
      "metadata": {
        "colab": {
          "base_uri": "https://localhost:8080/"
        },
        "id": "EW31hHv74fD6",
        "outputId": "3e7d0c45-e973-497b-d708-74cbd7a3af26"
      },
      "source": [
        "len(tokenizer.index_word)"
      ],
      "execution_count": null,
      "outputs": [
        {
          "output_type": "execute_result",
          "data": {
            "text/plain": [
              "97197"
            ]
          },
          "metadata": {},
          "execution_count": 11
        }
      ]
    },
    {
      "cell_type": "code",
      "metadata": {
        "colab": {
          "base_uri": "https://localhost:8080/"
        },
        "id": "rMKelxGLK7II",
        "outputId": "b5f7dd17-b363-4462-e8b8-5034bb95f818"
      },
      "source": [
        "print(len(training_sequences))\n",
        "print(training_padded.shape)"
      ],
      "execution_count": null,
      "outputs": [
        {
          "output_type": "stream",
          "name": "stdout",
          "text": [
            "360000\n",
            "(360000, 200)\n"
          ]
        }
      ]
    },
    {
      "cell_type": "code",
      "metadata": {
        "colab": {
          "base_uri": "https://localhost:8080/"
        },
        "id": "5MLOKOSbKzGu",
        "outputId": "118677bf-5d29-4cdd-d6c4-0b82fcd725f2"
      },
      "source": [
        "print(len(val_sequences))\n",
        "print(val_padded.shape)"
      ],
      "execution_count": null,
      "outputs": [
        {
          "output_type": "stream",
          "name": "stdout",
          "text": [
            "90000\n",
            "(90000, 200)\n"
          ]
        }
      ]
    },
    {
      "cell_type": "code",
      "metadata": {
        "id": "yX6WzKBsIZah"
      },
      "source": [
        "# import csv"
      ],
      "execution_count": null,
      "outputs": []
    },
    {
      "cell_type": "code",
      "metadata": {
        "id": "71u4abzoctES"
      },
      "source": [
        "# # open file for writing, \"w\" is writing\n",
        "# w = csv.writer(open(\"msproj/Clean_data3_WI.csv\", \"w\"))\n",
        "\n",
        "# # loop over dictionary keys and values\n",
        "# for key, val in dict(list(word_index.items())).items():\n",
        "\n",
        "#     # write every key and value to file\n",
        "#     w.writerow([key, val])"
      ],
      "execution_count": null,
      "outputs": []
    },
    {
      "cell_type": "code",
      "metadata": {
        "colab": {
          "base_uri": "https://localhost:8080/"
        },
        "id": "FQnfAz8pIx7w",
        "outputId": "4c436120-518c-415e-e7db-b842bcccde5a"
      },
      "source": [
        "print(training_sequences[10])"
      ],
      "execution_count": null,
      "outputs": [
        {
          "output_type": "stream",
          "name": "stdout",
          "text": [
            "[11, 1656, 2124, 365, 274, 164, 5195, 1656, 66]\n"
          ]
        }
      ]
    },
    {
      "cell_type": "code",
      "metadata": {
        "colab": {
          "base_uri": "https://localhost:8080/"
        },
        "id": "QD0deor1JHve",
        "outputId": "16660f83-4360-49cf-f915-ba724007bb8f"
      },
      "source": [
        "for number in range(5):\n",
        "    print(len(training_sequences[number]))\n",
        "    print(len(training_padded[number]))"
      ],
      "execution_count": null,
      "outputs": [
        {
          "output_type": "stream",
          "name": "stdout",
          "text": [
            "6\n",
            "200\n",
            "13\n",
            "200\n",
            "104\n",
            "200\n",
            "318\n",
            "200\n",
            "38\n",
            "200\n"
          ]
        }
      ]
    },
    {
      "cell_type": "code",
      "metadata": {
        "colab": {
          "base_uri": "https://localhost:8080/"
        },
        "id": "cGh2JDUtJJkL",
        "outputId": "6ed40ebb-72fc-499e-d05c-96b2f35bdb87"
      },
      "source": [
        "print(training_sequences[10])"
      ],
      "execution_count": null,
      "outputs": [
        {
          "output_type": "stream",
          "name": "stdout",
          "text": [
            "[11, 1656, 2124, 365, 274, 164, 5195, 1656, 66]\n"
          ]
        }
      ]
    },
    {
      "cell_type": "code",
      "metadata": {
        "colab": {
          "base_uri": "https://localhost:8080/"
        },
        "id": "n1ES1HP8JRmU",
        "outputId": "9d110a76-a160-4a04-85d2-7bce8f5939d5"
      },
      "source": [
        "print(training_padded[10])"
      ],
      "execution_count": null,
      "outputs": [
        {
          "output_type": "stream",
          "name": "stdout",
          "text": [
            "[  11 1656 2124  365  274  164 5195 1656   66    0    0    0    0    0\n",
            "    0    0    0    0    0    0    0    0    0    0    0    0    0    0\n",
            "    0    0    0    0    0    0    0    0    0    0    0    0    0    0\n",
            "    0    0    0    0    0    0    0    0    0    0    0    0    0    0\n",
            "    0    0    0    0    0    0    0    0    0    0    0    0    0    0\n",
            "    0    0    0    0    0    0    0    0    0    0    0    0    0    0\n",
            "    0    0    0    0    0    0    0    0    0    0    0    0    0    0\n",
            "    0    0    0    0    0    0    0    0    0    0    0    0    0    0\n",
            "    0    0    0    0    0    0    0    0    0    0    0    0    0    0\n",
            "    0    0    0    0    0    0    0    0    0    0    0    0    0    0\n",
            "    0    0    0    0    0    0    0    0    0    0    0    0    0    0\n",
            "    0    0    0    0    0    0    0    0    0    0    0    0    0    0\n",
            "    0    0    0    0    0    0    0    0    0    0    0    0    0    0\n",
            "    0    0    0    0    0    0    0    0    0    0    0    0    0    0\n",
            "    0    0    0    0]\n"
          ]
        }
      ]
    },
    {
      "cell_type": "code",
      "metadata": {
        "colab": {
          "base_uri": "https://localhost:8080/"
        },
        "id": "JdB_w2yPJqHi",
        "outputId": "0973c9be-ea51-4770-d560-a52a50a20e3b"
      },
      "source": [
        "print(training_sequences[0])"
      ],
      "execution_count": null,
      "outputs": [
        {
          "output_type": "stream",
          "name": "stdout",
          "text": [
            "[41, 1056, 41, 1056, 1463, 216]\n"
          ]
        }
      ]
    },
    {
      "cell_type": "code",
      "metadata": {
        "colab": {
          "base_uri": "https://localhost:8080/"
        },
        "id": "SMJE21EXJqD9",
        "outputId": "3d0539b7-0bc5-44f3-ad25-0d91c9bef021"
      },
      "source": [
        "print(training_padded[0])"
      ],
      "execution_count": null,
      "outputs": [
        {
          "output_type": "stream",
          "name": "stdout",
          "text": [
            "[  41 1056   41 1056 1463  216    0    0    0    0    0    0    0    0\n",
            "    0    0    0    0    0    0    0    0    0    0    0    0    0    0\n",
            "    0    0    0    0    0    0    0    0    0    0    0    0    0    0\n",
            "    0    0    0    0    0    0    0    0    0    0    0    0    0    0\n",
            "    0    0    0    0    0    0    0    0    0    0    0    0    0    0\n",
            "    0    0    0    0    0    0    0    0    0    0    0    0    0    0\n",
            "    0    0    0    0    0    0    0    0    0    0    0    0    0    0\n",
            "    0    0    0    0    0    0    0    0    0    0    0    0    0    0\n",
            "    0    0    0    0    0    0    0    0    0    0    0    0    0    0\n",
            "    0    0    0    0    0    0    0    0    0    0    0    0    0    0\n",
            "    0    0    0    0    0    0    0    0    0    0    0    0    0    0\n",
            "    0    0    0    0    0    0    0    0    0    0    0    0    0    0\n",
            "    0    0    0    0    0    0    0    0    0    0    0    0    0    0\n",
            "    0    0    0    0    0    0    0    0    0    0    0    0    0    0\n",
            "    0    0    0    0]\n"
          ]
        }
      ]
    },
    {
      "cell_type": "code",
      "metadata": {
        "id": "ulW7K1lKHaaj"
      },
      "source": [
        "training_padded = np.array(training_padded)\n",
        "train_labels = np.array(train_labels)\n",
        "val_padded = np.array(val_padded)\n",
        "val_labels = np.array(val_labels)"
      ],
      "execution_count": null,
      "outputs": []
    },
    {
      "cell_type": "code",
      "metadata": {
        "colab": {
          "base_uri": "https://localhost:8080/"
        },
        "id": "OC486m-pIqtJ",
        "outputId": "658aa975-aa81-44c7-d087-a1db6c753193"
      },
      "source": [
        "print(train_labels[0])\n",
        "print(train_labels[1])\n",
        "print(train_labels[2])\n",
        "print(train_labels.shape)\n",
        "\n",
        "print(val_labels[0])\n",
        "print(val_labels[1])\n",
        "print(val_labels[2])\n",
        "print(val_labels.shape)"
      ],
      "execution_count": null,
      "outputs": [
        {
          "output_type": "stream",
          "name": "stdout",
          "text": [
            "1\n",
            "1\n",
            "0\n",
            "(360000,)\n",
            "0\n",
            "0\n",
            "1\n",
            "(90000,)\n"
          ]
        }
      ]
    },
    {
      "cell_type": "code",
      "metadata": {
        "colab": {
          "base_uri": "https://localhost:8080/"
        },
        "id": "hDZirdM_MNGm",
        "outputId": "df5ee378-f4ea-4742-e064-575665021391"
      },
      "source": [
        "reverse_word_index = dict([(value, key) for (key, value) in word_index.items()])\n",
        "\n",
        "def decode_text(text):\n",
        "    return ' '.join([reverse_word_index.get(i, '?') for i in text])\n",
        "print(decode_text(training_padded[10]))\n",
        "print('---')\n",
        "print(train_samples[10])"
      ],
      "execution_count": null,
      "outputs": [
        {
          "output_type": "stream",
          "name": "stdout",
          "text": [
            "add applicable tax section provide date satisfied applicable option ? ? ? ? ? ? ? ? ? ? ? ? ? ? ? ? ? ? ? ? ? ? ? ? ? ? ? ? ? ? ? ? ? ? ? ? ? ? ? ? ? ? ? ? ? ? ? ? ? ? ? ? ? ? ? ? ? ? ? ? ? ? ? ? ? ? ? ? ? ? ? ? ? ? ? ? ? ? ? ? ? ? ? ? ? ? ? ? ? ? ? ? ? ? ? ? ? ? ? ? ? ? ? ? ? ? ? ? ? ? ? ? ? ? ? ? ? ? ? ? ? ? ? ? ? ? ? ? ? ? ? ? ? ? ? ? ? ? ? ? ? ? ? ? ? ? ? ? ? ? ? ? ? ? ? ? ? ? ? ? ? ? ? ? ? ? ? ? ? ? ? ? ? ? ? ? ? ? ? ? ? ? ? ? ? ? ? ? ? ? ?\n",
            "---\n",
            "add applicable tax section provide date satisfied applicable option\n"
          ]
        }
      ]
    },
    {
      "cell_type": "code",
      "metadata": {
        "colab": {
          "base_uri": "https://localhost:8080/"
        },
        "id": "OHxtbFR3kscf",
        "outputId": "5f7fd952-23f9-4e06-c3dd-7dfc031c2c2c"
      },
      "source": [
        "%%time\n",
        "embeddings_index = {}\n",
        "with open(\"msproj/embeddings/glove.6B.200d.txt\") as f:\n",
        "    for line in f:\n",
        "        word, coefs = line.split(maxsplit=1)\n",
        "        coefs = np.fromstring(coefs, \"f\", sep=\" \")\n",
        "        embeddings_index[word] = coefs\n",
        "\n",
        "print(\"Found %s word vectors.\" % len(embeddings_index))"
      ],
      "execution_count": null,
      "outputs": [
        {
          "output_type": "stream",
          "name": "stdout",
          "text": [
            "Found 400000 word vectors.\n",
            "CPU times: user 10.5 s, sys: 556 ms, total: 11 s\n",
            "Wall time: 12.3 s\n"
          ]
        }
      ]
    },
    {
      "cell_type": "markdown",
      "metadata": {
        "id": "6pVIgtMYzqRX"
      },
      "source": [
        "Now, let's prepare a corresponding embedding matrix that we can use in a Keras\n",
        "`Embedding` layer. It's a simple NumPy matrix where entry at index `i` is the pre-trained\n",
        "vector for the word of index `i` in our `vectorizer`'s vocabulary."
      ]
    },
    {
      "cell_type": "code",
      "metadata": {
        "id": "uE4didFAzqRY",
        "colab": {
          "base_uri": "https://localhost:8080/"
        },
        "outputId": "4aa31db7-ee42-4882-8a8d-a33480d0ac4d"
      },
      "source": [
        "num_tokens = vocab_size + 2\n",
        "embedding_dim = 200\n",
        "hits = 0\n",
        "misses = 0\n",
        "\n",
        "# Prepare embedding matrix\n",
        "embedding_matrix = np.zeros((num_tokens, embedding_dim))\n",
        "for word, i in word_index.items():\n",
        "    # print(word)\n",
        "    # print(i)\n",
        "    embedding_vector = embeddings_index.get(word)\n",
        "    if embedding_vector is not None:\n",
        "        # Words not found in embedding index will be all-zeros.\n",
        "        # This includes the representation for \"padding\" and \"OOV\"\n",
        "        embedding_matrix[i] = embedding_vector\n",
        "        hits += 1\n",
        "    else:\n",
        "        misses += 1\n",
        "print(\"Converted %d words (%d misses)\" % (hits, misses))\n",
        "p = (hits*100)/vocab_size\n",
        "print(\"Percentage of vocabulary matched: \", p)"
      ],
      "execution_count": null,
      "outputs": [
        {
          "output_type": "stream",
          "name": "stdout",
          "text": [
            "Converted 67233 words (29964 misses)\n",
            "Percentage of vocabulary matched:  69.17259969546072\n"
          ]
        }
      ]
    },
    {
      "cell_type": "markdown",
      "metadata": {
        "id": "41qm2mqqzqRY"
      },
      "source": [
        "Next, we load the pre-trained word embeddings matrix into an `Embedding` layer.\n",
        "\n",
        "Note that we set `trainable=False` so as to keep the embeddings fixed (we don't want to\n",
        "update them during training)."
      ]
    },
    {
      "cell_type": "code",
      "metadata": {
        "id": "-7g18DL9zqRZ",
        "colab": {
          "base_uri": "https://localhost:8080/"
        },
        "outputId": "15dc15b0-562e-49d9-dad6-550b63106ca1"
      },
      "source": [
        "%%time\n",
        "from tensorflow.keras.layers import Embedding\n",
        "\n",
        "embedding_layer = Embedding( num_tokens, embedding_dim, embeddings_initializer=keras.initializers.Constant(embedding_matrix), trainable=False )"
      ],
      "execution_count": null,
      "outputs": [
        {
          "output_type": "stream",
          "name": "stdout",
          "text": [
            "CPU times: user 11.3 ms, sys: 118 µs, total: 11.4 ms\n",
            "Wall time: 165 ms\n"
          ]
        }
      ]
    },
    {
      "cell_type": "markdown",
      "metadata": {
        "id": "3m8hj_IuzqRZ"
      },
      "source": [
        "## Build the model\n",
        "\n",
        "A simple 1D convnet with global max pooling and a classifier at the end."
      ]
    },
    {
      "cell_type": "code",
      "metadata": {
        "id": "vUzl2mCczqRZ",
        "colab": {
          "base_uri": "https://localhost:8080/"
        },
        "outputId": "c09f3c0d-6642-4d16-d1f4-8476180693ef"
      },
      "source": [
        "%%time\n",
        "from tensorflow.keras import layers\n",
        "\n",
        "int_sequences_input = keras.Input(shape=(None,), dtype=\"int64\")\n",
        "embedded_sequences = embedding_layer(int_sequences_input)\n",
        "x = layers.Conv1D(128, 5, activation=\"relu\")(embedded_sequences)\n",
        "x = layers.MaxPooling1D(5)(x)\n",
        "x = layers.Conv1D(128, 5, activation=\"relu\")(x)\n",
        "x = layers.MaxPooling1D(5)(x)\n",
        "x = layers.Conv1D(128, 5, activation=\"relu\")(x)\n",
        "x = layers.GlobalMaxPooling1D()(x)\n",
        "x = layers.Dense(128, activation=\"relu\")(x)\n",
        "x = layers.Dropout(0.5)(x)\n",
        "preds = layers.Dense(len(class_names), activation=\"softmax\")(x)\n",
        "model = keras.Model(int_sequences_input, preds)\n",
        "model.summary()"
      ],
      "execution_count": null,
      "outputs": [
        {
          "output_type": "stream",
          "name": "stdout",
          "text": [
            "Model: \"model\"\n",
            "_________________________________________________________________\n",
            "Layer (type)                 Output Shape              Param #   \n",
            "=================================================================\n",
            "input_1 (InputLayer)         [(None, None)]            0         \n",
            "_________________________________________________________________\n",
            "embedding (Embedding)        (None, None, 200)         19439600  \n",
            "_________________________________________________________________\n",
            "conv1d (Conv1D)              (None, None, 128)         128128    \n",
            "_________________________________________________________________\n",
            "max_pooling1d (MaxPooling1D) (None, None, 128)         0         \n",
            "_________________________________________________________________\n",
            "conv1d_1 (Conv1D)            (None, None, 128)         82048     \n",
            "_________________________________________________________________\n",
            "max_pooling1d_1 (MaxPooling1 (None, None, 128)         0         \n",
            "_________________________________________________________________\n",
            "conv1d_2 (Conv1D)            (None, None, 128)         82048     \n",
            "_________________________________________________________________\n",
            "global_max_pooling1d (Global (None, 128)               0         \n",
            "_________________________________________________________________\n",
            "dense (Dense)                (None, 128)               16512     \n",
            "_________________________________________________________________\n",
            "dropout (Dropout)            (None, 128)               0         \n",
            "_________________________________________________________________\n",
            "dense_1 (Dense)              (None, 3)                 387       \n",
            "=================================================================\n",
            "Total params: 19,748,723\n",
            "Trainable params: 309,123\n",
            "Non-trainable params: 19,439,600\n",
            "_________________________________________________________________\n",
            "CPU times: user 155 ms, sys: 40.3 ms, total: 195 ms\n",
            "Wall time: 1.19 s\n"
          ]
        }
      ]
    },
    {
      "cell_type": "markdown",
      "metadata": {
        "id": "l9_yaEXCzqRZ"
      },
      "source": [
        "## Train the model\n",
        "\n",
        "First, convert our list-of-strings data to NumPy arrays of integer indices. The arrays\n",
        "are right-padded."
      ]
    },
    {
      "cell_type": "markdown",
      "metadata": {
        "id": "t2k_Q1UmzqRa"
      },
      "source": [
        "We use categorical crossentropy as our loss since we're doing softmax classification.\n",
        "Moreover, we use `sparse_categorical_crossentropy` since our labels are integers."
      ]
    },
    {
      "cell_type": "code",
      "metadata": {
        "id": "RpUdt4jdzqRa",
        "colab": {
          "base_uri": "https://localhost:8080/"
        },
        "outputId": "6b5e8f86-7265-4250-f3a0-e06903e785b5"
      },
      "source": [
        "%%time\n",
        "model.compile(\n",
        "    loss=\"sparse_categorical_crossentropy\", optimizer=\"rmsprop\", metrics=[\"acc\"]\n",
        ")\n",
        "history =  model.fit(training_padded, train_labels, batch_size=128, epochs=10, validation_data=(val_padded, val_labels))"
      ],
      "execution_count": null,
      "outputs": [
        {
          "output_type": "stream",
          "name": "stdout",
          "text": [
            "Epoch 1/10\n",
            "2813/2813 [==============================] - 123s 43ms/step - loss: 0.7001 - acc: 0.7158 - val_loss: 0.6358 - val_acc: 0.7456\n",
            "Epoch 2/10\n",
            "2813/2813 [==============================] - 133s 47ms/step - loss: 0.6293 - acc: 0.7532 - val_loss: 0.6246 - val_acc: 0.7549\n",
            "Epoch 3/10\n",
            "2813/2813 [==============================] - 187s 66ms/step - loss: 0.6039 - acc: 0.7657 - val_loss: 0.6611 - val_acc: 0.7468\n",
            "Epoch 4/10\n",
            "2813/2813 [==============================] - 187s 66ms/step - loss: 0.5873 - acc: 0.7743 - val_loss: 0.6351 - val_acc: 0.7534\n",
            "Epoch 5/10\n",
            "2813/2813 [==============================] - 188s 67ms/step - loss: 0.5739 - acc: 0.7801 - val_loss: 0.6555 - val_acc: 0.7555\n",
            "Epoch 6/10\n",
            "2813/2813 [==============================] - 188s 67ms/step - loss: 0.5610 - acc: 0.7860 - val_loss: 0.6738 - val_acc: 0.7549\n",
            "Epoch 7/10\n",
            "2813/2813 [==============================] - 188s 67ms/step - loss: 0.5516 - acc: 0.7898 - val_loss: 0.6949 - val_acc: 0.7519\n",
            "Epoch 8/10\n",
            "2813/2813 [==============================] - 186s 66ms/step - loss: 0.5469 - acc: 0.7938 - val_loss: 0.7411 - val_acc: 0.7447\n",
            "Epoch 9/10\n",
            "2813/2813 [==============================] - 188s 67ms/step - loss: 0.5406 - acc: 0.7968 - val_loss: 0.8084 - val_acc: 0.7430\n",
            "Epoch 10/10\n",
            "2813/2813 [==============================] - 187s 67ms/step - loss: 0.5298 - acc: 0.8008 - val_loss: 0.7711 - val_acc: 0.7489\n",
            "CPU times: user 3h 23min, sys: 11min 34s, total: 3h 34min 34s\n",
            "Wall time: 29min 15s\n"
          ]
        }
      ]
    },
    {
      "cell_type": "markdown",
      "metadata": {
        "id": "Djc5Y7Y8jIZT"
      },
      "source": [
        "# evaluate model"
      ]
    },
    {
      "cell_type": "code",
      "metadata": {
        "id": "6p6O1Qp_uc2n",
        "colab": {
          "base_uri": "https://localhost:8080/"
        },
        "outputId": "961a6995-d960-4b6e-d545-110d76f4e681"
      },
      "source": [
        "# evaluate model\n",
        "yhat = model.predict(val_padded)\n",
        "score = roc_auc_score(val_labels, yhat,multi_class='ovr')\n",
        "print('ROC AUC: %.3f' % score)"
      ],
      "execution_count": null,
      "outputs": [
        {
          "output_type": "stream",
          "name": "stdout",
          "text": [
            "ROC AUC: 0.843\n"
          ]
        }
      ]
    },
    {
      "cell_type": "code",
      "metadata": {
        "id": "ozOlF2FEuczy",
        "colab": {
          "base_uri": "https://localhost:8080/",
          "height": 541
        },
        "outputId": "00b50e17-228f-42e6-bedf-07b44e4ad08b"
      },
      "source": [
        "import matplotlib.pyplot as plt\n",
        "\n",
        "def plot_graphs(history, string):\n",
        "  plt.plot(history.history[string])\n",
        "  plt.plot(history.history['val_'+string])\n",
        "  plt.xlabel(\"Epochs\")\n",
        "  plt.ylabel(string)\n",
        "  plt.legend([string, 'val_'+string])\n",
        "  plt.show()\n",
        "  \n",
        "plot_graphs(history, \"acc\")\n",
        "plot_graphs(history, \"loss\")"
      ],
      "execution_count": null,
      "outputs": [
        {
          "output_type": "display_data",
          "data": {
            "text/plain": [
              "<Figure size 432x288 with 1 Axes>"
            ],
            "image/png": "[encoded data removed]"
          },
          "metadata": {
            "needs_background": "light"
          }
        },
        {
          "output_type": "display_data",
          "data": {
            "text/plain": [
              "<Figure size 432x288 with 1 Axes>"
            ],
            "image/png": "[encoded data removed]"
          },
          "metadata": {
            "needs_background": "light"
          }
        }
      ]
    },
    {
      "cell_type": "code",
      "metadata": {
        "id": "fxe9D8jeucw5",
        "colab": {
          "base_uri": "https://localhost:8080/"
        },
        "outputId": "214afc06-8a1b-415a-8558-440dffb59e86"
      },
      "source": [
        "reverse_word_index = dict([(value, key) for (key, value) in word_index.items()])\n",
        "\n",
        "def decode_sentence(text):\n",
        "    return ' '.join([reverse_word_index.get(i, '?') for i in text])\n",
        "\n",
        "print(decode_sentence(training_padded[0]))\n",
        "print(train_samples[2])\n",
        "print(train_labels[2])"
      ],
      "execution_count": null,
      "outputs": [
        {
          "output_type": "stream",
          "name": "stdout",
          "text": [
            "create animation create animation texture array ? ? ? ? ? ? ? ? ? ? ? ? ? ? ? ? ? ? ? ? ? ? ? ? ? ? ? ? ? ? ? ? ? ? ? ? ? ? ? ? ? ? ? ? ? ? ? ? ? ? ? ? ? ? ? ? ? ? ? ? ? ? ? ? ? ? ? ? ? ? ? ? ? ? ? ? ? ? ? ? ? ? ? ? ? ? ? ? ? ? ? ? ? ? ? ? ? ? ? ? ? ? ? ? ? ? ? ? ? ? ? ? ? ? ? ? ? ? ? ? ? ? ? ? ? ? ? ? ? ? ? ? ? ? ? ? ? ? ? ? ? ? ? ? ? ? ? ? ? ? ? ? ? ? ? ? ? ? ? ? ? ? ? ? ? ? ? ? ? ? ? ? ? ? ? ? ? ? ? ? ? ? ? ? ? ? ? ? ? ? ? ? ? ?\n",
            "inbox sum unread problem count equal unread count language happened time able figure exactly circumstance occurs case seems happening ruby track example unread item hamming unread item anagram one would think mean unread item total ruby counter say click hamming item one one hamming ruby counter decrease also click two anagram item decrease counter well left one anagram item unread zero ruby item unread expect ruby counter instead right screenshot current inbox stand http img may unread count ruby track synced going read submission leave last one submission unread help diagnose issue way see difference square submission see difference square since submitted solution problem\n",
            "0\n"
          ]
        }
      ]
    },
    {
      "cell_type": "code",
      "metadata": {
        "id": "bbR7K5RpmWHj",
        "colab": {
          "base_uri": "https://localhost:8080/"
        },
        "outputId": "d626ce7b-6daf-4926-ddda-ffecda2013d1"
      },
      "source": [
        "txt = [\"Why binary_crossentropy and categorical_crossentropy give different performances for the same problem\"]\n",
        "seq = tokenizer.texts_to_sequences(txt)\n",
        "padded = pad_sequences(seq, maxlen=max_length,padding=padding_type, truncating=trunc_type)\n",
        "pred = model.predict(padded)\n",
        "labels = ['bug', 'feature', 'question']\n",
        "print(pred, labels[np.argmax(pred)])"
      ],
      "execution_count": null,
      "outputs": [
        {
          "output_type": "stream",
          "name": "stdout",
          "text": [
            "[[0.29286933 0.33470452 0.37242612]] question\n"
          ]
        }
      ]
    },
    {
      "cell_type": "code",
      "metadata": {
        "id": "v5i0qV4QiZAD"
      },
      "source": [],
      "execution_count": null,
      "outputs": []
    },
    {
      "cell_type": "code",
      "metadata": {
        "id": "2Fa3Az_w4ZVN"
      },
      "source": [
        "def Convert(stng):\n",
        "  li = []\n",
        "  li.append(stng)\n",
        "  return li"
      ],
      "execution_count": null,
      "outputs": []
    },
    {
      "cell_type": "code",
      "metadata": {
        "id": "_FMkglqpiZfJ"
      },
      "source": [
        "txt = \"unable mine rock sark starting today hit enter.\"\n",
        "\n",
        "def pred_it(txt):\n",
        "  seq = tokenizer.texts_to_sequences(txt)\n",
        "  padded = pad_sequences(seq, maxlen=max_length,padding=padding_type, truncating=trunc_type)\n",
        "  pred = model.predict(padded)\n",
        "  labels = [0, 1, 2]\n",
        "  return labels[np.argmax(pred)]  "
      ],
      "execution_count": null,
      "outputs": []
    },
    {
      "cell_type": "code",
      "metadata": {
        "id": "f-aGtwBrzRvg",
        "colab": {
          "base_uri": "https://localhost:8080/"
        },
        "outputId": "1ceb1f8f-13fb-4221-fd49-615201eb480a"
      },
      "source": [
        "print(Convert(txt))\n",
        "pred_it(Convert(txt))"
      ],
      "execution_count": null,
      "outputs": [
        {
          "output_type": "stream",
          "name": "stdout",
          "text": [
            "['unable mine rock sark starting today hit enter.']\n"
          ]
        },
        {
          "output_type": "execute_result",
          "data": {
            "text/plain": [
              "0"
            ]
          },
          "metadata": {},
          "execution_count": 36
        }
      ]
    },
    {
      "cell_type": "code",
      "metadata": {
        "id": "HxvQF-emiY5_"
      },
      "source": [],
      "execution_count": null,
      "outputs": []
    },
    {
      "cell_type": "markdown",
      "metadata": {
        "id": "H2eokmnJzqRa"
      },
      "source": [
        "## Export an end-to-end model\n",
        "\n",
        "Now, we may want to export a `Model` object that takes as input a string of arbitrary\n",
        "length, rather than a sequence of indices. It would make the model much more portable,\n",
        "since you wouldn't have to worry about the input preprocessing pipeline.\n",
        "\n",
        "Our `vectorizer` is actually a Keras layer, so it's simple:"
      ]
    },
    {
      "cell_type": "code",
      "metadata": {
        "id": "tb3IhygDuzHR",
        "colab": {
          "base_uri": "https://localhost:8080/"
        },
        "outputId": "88b77691-98d7-43fc-ea3a-46ef6e442d56"
      },
      "source": [
        "from keras.models import model_from_json\n",
        "# serialize model to JSON\n",
        "model_json = model.to_json()\n",
        "with open(\"msproj/Classify_GloVe_WordEmb.json\", \"w\") as json_file:\n",
        "    json_file.write(model_json)\n",
        "# serialize weights to HDF5\n",
        "model.save_weights(\"msproj/Classify_GloVe_WordEmb.h5\")\n",
        "print(\"Saved model to disk\")\n",
        " "
      ],
      "execution_count": null,
      "outputs": [
        {
          "output_type": "stream",
          "name": "stdout",
          "text": [
            "Saved model to disk\n"
          ]
        }
      ]
    },
    {
      "cell_type": "code",
      "metadata": {
        "id": "QSEGv6_dhVRz",
        "colab": {
          "base_uri": "https://localhost:8080/"
        },
        "outputId": "1ede3ba2-6b4b-4b04-baac-693e88b9237d"
      },
      "source": [
        "# load json and create model\n",
        "json_file = open('msproj/Classify_GloVe_WordEmb.json', 'r')\n",
        "loaded_model_json = json_file.read()\n",
        "json_file.close()\n",
        "loaded_model = model_from_json(loaded_model_json)\n",
        "# load weights into new model\n",
        "loaded_model.load_weights(\"msproj/Classify_GloVe_WordEmb.h5\")\n",
        "print(\"Loaded model from disk\")"
      ],
      "execution_count": null,
      "outputs": [
        {
          "output_type": "stream",
          "name": "stdout",
          "text": [
            "Loaded model from disk\n"
          ]
        }
      ]
    },
    {
      "cell_type": "code",
      "metadata": {
        "id": "SEPd000Ia4Jx",
        "colab": {
          "base_uri": "https://localhost:8080/",
          "height": 1000
        },
        "outputId": "730b6e19-b508-4a43-85f1-9848cbc136d6"
      },
      "source": [
        "tf.keras.utils.plot_model(loaded_model)"
      ],
      "execution_count": null,
      "outputs": [
        {
          "output_type": "execute_result",
          "data": {
            "image/png": "[encoded data removed]",
            "text/plain": [
              "<IPython.core.display.Image object>"
            ]
          },
          "metadata": {},
          "execution_count": 39
        }
      ]
    },
    {
      "cell_type": "code",
      "metadata": {
        "id": "dZjpmKT4ikUQ"
      },
      "source": [],
      "execution_count": null,
      "outputs": []
    },
    {
      "cell_type": "markdown",
      "metadata": {
        "id": "DwxAOmEhhHDJ"
      },
      "source": [
        "## Export an end-to-end model\n",
        "\n",
        "Now, we may want to export a `Model` object that takes as input a string of arbitrary\n",
        "length, rather than a sequence of indices. It would make the model much more portable,\n",
        "since you wouldn't have to worry about the input preprocessing pipeline.\n",
        "\n",
        "Our `vectorizer` is actually a Keras layer, so it's simple:"
      ]
    },
    {
      "cell_type": "code",
      "metadata": {
        "id": "Yb_zkwEUjdJY",
        "colab": {
          "base_uri": "https://localhost:8080/"
        },
        "outputId": "12d9cac7-a3fe-4df3-8264-fbac8f2f46e4"
      },
      "source": [
        "from keras.models import model_from_json\n",
        "# serialize model to JSON\n",
        "model_json = model.to_json()\n",
        "with open(\"msproj/Classify_GloVe_WordEmb.json\", \"w\") as json_file:\n",
        "    json_file.write(model_json)\n",
        "# serialize weights to HDF5\n",
        "model.save_weights(\"msproj/Classify_GloVe_WordEmb.h5\")\n",
        "print(\"Saved model to disk\")"
      ],
      "execution_count": null,
      "outputs": [
        {
          "output_type": "stream",
          "name": "stdout",
          "text": [
            "Saved model to disk\n"
          ]
        }
      ]
    },
    {
      "cell_type": "code",
      "metadata": {
        "id": "Tea7MhQ_jdJZ"
      },
      "source": [
        "# # load json and create model\n",
        "# json_file = open('msproj/Classify_GloVe_WordEmb.json', 'r')\n",
        "# loaded_model_json = json_file.read()\n",
        "# json_file.close()\n",
        "# loaded_model = model_from_json(loaded_model_json)\n",
        "# # load weights into new model\n",
        "# loaded_model.load_weights(\"msproj/Classify_GloVe_WordEmb.h5\")\n",
        "# print(\"Loaded model from disk\")"
      ],
      "execution_count": null,
      "outputs": []
    },
    {
      "cell_type": "code",
      "metadata": {
        "id": "ne4eIaqD19m3",
        "colab": {
          "base_uri": "https://localhost:8080/",
          "height": 419
        },
        "outputId": "ad743364-fd2d-49f9-a001-4106c11240b9"
      },
      "source": [
        "dataset_test = pd.read_csv('msproj/clean_test4.csv')\n",
        "dataset_test['pred'] = 3\n",
        "dataset_test"
      ],
      "execution_count": null,
      "outputs": [
        {
          "output_type": "execute_result",
          "data": {
            "text/plain": [
              "       Unnamed: 0                                               text  label  \\\n",
              "0               0  config question path specific environment vari...      0   \n",
              "1               1           crash indien vol simulator crash hij vol      0   \n",
              "2               2  unable mine rock sark starting today hit enter...      0   \n",
              "3               3  whitelists processed create following rule ord...      0   \n",
              "4               4  add ctx menu ida free ida free associated dll ...      0   \n",
              "...           ...                                                ...    ...   \n",
              "29995       29995  closing project running simulation stop simula...      0   \n",
              "29996       29996  missing table description iseries driver table...      0   \n",
              "29997       29997  case notification shown new message always cha...      0   \n",
              "29998       29998  error syncing see following error log error ja...      0   \n",
              "29999       29999  portable open system pharmacology version hell...      0   \n",
              "\n",
              "       pred  \n",
              "0         3  \n",
              "1         3  \n",
              "2         3  \n",
              "3         3  \n",
              "4         3  \n",
              "...     ...  \n",
              "29995     3  \n",
              "29996     3  \n",
              "29997     3  \n",
              "29998     3  \n",
              "29999     3  \n",
              "\n",
              "[30000 rows x 4 columns]"
            ],
            "text/html": [
              "<div>\n",
              "<style scoped>\n",
              "    .dataframe tbody tr th:only-of-type {\n",
              "        vertical-align: middle;\n",
              "    }\n",
              "\n",
              "    .dataframe tbody tr th {\n",
              "        vertical-align: top;\n",
              "    }\n",
              "\n",
              "    .dataframe thead th {\n",
              "        text-align: right;\n",
              "    }\n",
              "</style>\n",
              "<table border=\"1\" class=\"dataframe\">\n",
              "  <thead>\n",
              "    <tr style=\"text-align: right;\">\n",
              "      <th></th>\n",
              "      <th>Unnamed: 0</th>\n",
              "      <th>text</th>\n",
              "      <th>label</th>\n",
              "      <th>pred</th>\n",
              "    </tr>\n",
              "  </thead>\n",
              "  <tbody>\n",
              "    <tr>\n",
              "      <th>0</th>\n",
              "      <td>0</td>\n",
              "      <td>config question path specific environment vari...</td>\n",
              "      <td>0</td>\n",
              "      <td>3</td>\n",
              "    </tr>\n",
              "    <tr>\n",
              "      <th>1</th>\n",
              "      <td>1</td>\n",
              "      <td>crash indien vol simulator crash hij vol</td>\n",
              "      <td>0</td>\n",
              "      <td>3</td>\n",
              "    </tr>\n",
              "    <tr>\n",
              "      <th>2</th>\n",
              "      <td>2</td>\n",
              "      <td>unable mine rock sark starting today hit enter...</td>\n",
              "      <td>0</td>\n",
              "      <td>3</td>\n",
              "    </tr>\n",
              "    <tr>\n",
              "      <th>3</th>\n",
              "      <td>3</td>\n",
              "      <td>whitelists processed create following rule ord...</td>\n",
              "      <td>0</td>\n",
              "      <td>3</td>\n",
              "    </tr>\n",
              "    <tr>\n",
              "      <th>4</th>\n",
              "      <td>4</td>\n",
              "      <td>add ctx menu ida free ida free associated dll ...</td>\n",
              "      <td>0</td>\n",
              "      <td>3</td>\n",
              "    </tr>\n",
              "    <tr>\n",
              "      <th>...</th>\n",
              "      <td>...</td>\n",
              "      <td>...</td>\n",
              "      <td>...</td>\n",
              "      <td>...</td>\n",
              "    </tr>\n",
              "    <tr>\n",
              "      <th>29995</th>\n",
              "      <td>29995</td>\n",
              "      <td>closing project running simulation stop simula...</td>\n",
              "      <td>0</td>\n",
              "      <td>3</td>\n",
              "    </tr>\n",
              "    <tr>\n",
              "      <th>29996</th>\n",
              "      <td>29996</td>\n",
              "      <td>missing table description iseries driver table...</td>\n",
              "      <td>0</td>\n",
              "      <td>3</td>\n",
              "    </tr>\n",
              "    <tr>\n",
              "      <th>29997</th>\n",
              "      <td>29997</td>\n",
              "      <td>case notification shown new message always cha...</td>\n",
              "      <td>0</td>\n",
              "      <td>3</td>\n",
              "    </tr>\n",
              "    <tr>\n",
              "      <th>29998</th>\n",
              "      <td>29998</td>\n",
              "      <td>error syncing see following error log error ja...</td>\n",
              "      <td>0</td>\n",
              "      <td>3</td>\n",
              "    </tr>\n",
              "    <tr>\n",
              "      <th>29999</th>\n",
              "      <td>29999</td>\n",
              "      <td>portable open system pharmacology version hell...</td>\n",
              "      <td>0</td>\n",
              "      <td>3</td>\n",
              "    </tr>\n",
              "  </tbody>\n",
              "</table>\n",
              "<p>30000 rows × 4 columns</p>\n",
              "</div>"
            ]
          },
          "metadata": {},
          "execution_count": 42
        }
      ]
    },
    {
      "cell_type": "code",
      "metadata": {
        "id": "iQvrkoTjv-Q9",
        "colab": {
          "base_uri": "https://localhost:8080/"
        },
        "outputId": "b1a69fa1-f7c9-434c-d1c6-69212a5829b1"
      },
      "source": [
        "dst = dataset_test['text'].head(4)\n",
        "dst"
      ],
      "execution_count": null,
      "outputs": [
        {
          "output_type": "execute_result",
          "data": {
            "text/plain": [
              "0    config question path specific environment vari...\n",
              "1             crash indien vol simulator crash hij vol\n",
              "2    unable mine rock sark starting today hit enter...\n",
              "3    whitelists processed create following rule ord...\n",
              "Name: text, dtype: object"
            ]
          },
          "metadata": {},
          "execution_count": 43
        }
      ]
    },
    {
      "cell_type": "code",
      "metadata": {
        "id": "MhCyKC7s2Dlg",
        "colab": {
          "base_uri": "https://localhost:8080/"
        },
        "outputId": "a666107f-799e-41b7-d3bf-8ab13ca53bf6"
      },
      "source": [
        "%%time\n",
        "for item in dst:\n",
        "  print(pred_it(Convert(item)))"
      ],
      "execution_count": null,
      "outputs": [
        {
          "output_type": "stream",
          "name": "stdout",
          "text": [
            "2\n",
            "0\n",
            "0\n",
            "0\n",
            "CPU times: user 300 ms, sys: 17.2 ms, total: 317 ms\n",
            "Wall time: 305 ms\n"
          ]
        }
      ]
    },
    {
      "cell_type": "code",
      "metadata": {
        "id": "SkgEqT5E7XQ0"
      },
      "source": [
        "dataset_test['pred']=dataset_test['text'].apply(lambda x: pred_it(Convert(x)))"
      ],
      "execution_count": null,
      "outputs": []
    },
    {
      "cell_type": "code",
      "metadata": {
        "id": "r8B2J7zVFX2w",
        "colab": {
          "base_uri": "https://localhost:8080/"
        },
        "outputId": "7ca6a78b-7ceb-4b90-ee5e-3438568f32e2"
      },
      "source": [
        "dataset_test['pred'].value_counts()"
      ],
      "execution_count": null,
      "outputs": [
        {
          "output_type": "execute_result",
          "data": {
            "text/plain": [
              "1    15763\n",
              "0    13348\n",
              "2      889\n",
              "Name: pred, dtype: int64"
            ]
          },
          "metadata": {},
          "execution_count": 46
        }
      ]
    },
    {
      "cell_type": "code",
      "metadata": {
        "id": "FC5ysaj-BTkn"
      },
      "source": [
        "from sklearn.metrics import classification_report"
      ],
      "execution_count": null,
      "outputs": []
    },
    {
      "cell_type": "code",
      "metadata": {
        "id": "nzGrF_SsAmj6",
        "colab": {
          "base_uri": "https://localhost:8080/"
        },
        "outputId": "c7d9ecff-5244-476b-a439-9ef854eeedec"
      },
      "source": [
        "print(classification_report(dataset_test['label'], dataset_test['pred'] ))"
      ],
      "execution_count": null,
      "outputs": [
        {
          "output_type": "stream",
          "name": "stdout",
          "text": [
            "              precision    recall  f1-score   support\n",
            "\n",
            "           0       1.00      0.44      0.62     30000\n",
            "           1       0.00      0.00      0.00         0\n",
            "           2       0.00      0.00      0.00         0\n",
            "\n",
            "    accuracy                           0.44     30000\n",
            "   macro avg       0.33      0.15      0.21     30000\n",
            "weighted avg       1.00      0.44      0.62     30000\n",
            "\n"
          ]
        }
      ]
    },
    {
      "cell_type": "code",
      "metadata": {
        "id": "EjVFtpZuCFp5",
        "colab": {
          "base_uri": "https://localhost:8080/"
        },
        "outputId": "475ad5eb-1618-4f29-a43c-68326ca70baf"
      },
      "source": [
        "from sklearn.metrics import confusion_matrix\n",
        "confusion_matrix(dataset_test['label'], dataset_test['pred'])"
      ],
      "execution_count": null,
      "outputs": [
        {
          "output_type": "execute_result",
          "data": {
            "text/plain": [
              "array([[13348, 15763,   889],\n",
              "       [    0,     0,     0],\n",
              "       [    0,     0,     0]])"
            ]
          },
          "metadata": {},
          "execution_count": 49
        }
      ]
    }
  ]
}